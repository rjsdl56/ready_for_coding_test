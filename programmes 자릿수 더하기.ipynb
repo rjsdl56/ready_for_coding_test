{
 "cells": [
  {
   "cell_type": "code",
   "execution_count": null,
   "metadata": {},
   "outputs": [],
   "source": [
    "문제 설명\n",
    "자연수 N이 주어지면, N의 각 자릿수의 합을 구해서 return 하는 solution 함수를 만들어 주세요.\n",
    "예를들어 N = 123이면 1 + 2 + 3 = 6을 return 하면 됩니다.\n",
    "\n",
    "제한사항\n",
    "N의 범위 : 100,000,000 이하의 자연수\n",
    "입출력 예\n",
    "N\tanswer\n",
    "123\t6\n",
    "987\t24\n",
    "입출력 예 설명\n",
    "입출력 예 #1\n",
    "문제의 예시와 같습니다.\n",
    "\n",
    "입출력 예 #2\n",
    "9 + 8 + 7 = 24이므로 24를 return 하면 됩니다."
   ]
  },
  {
   "cell_type": "code",
   "execution_count": 4,
   "metadata": {},
   "outputs": [],
   "source": [
    "def solution(n):\n",
    "    num = list(str(n))\n",
    "    answer = 0\n",
    "    for x in num :\n",
    "        answer += int(x)\n",
    "\n",
    "    return answer"
   ]
  },
  {
   "cell_type": "code",
   "execution_count": 5,
   "metadata": {},
   "outputs": [
    {
     "data": {
      "text/plain": [
       "6"
      ]
     },
     "execution_count": 5,
     "metadata": {},
     "output_type": "execute_result"
    }
   ],
   "source": [
    "n = 123\n",
    "solution(n)"
   ]
  },
  {
   "cell_type": "code",
   "execution_count": 6,
   "metadata": {},
   "outputs": [
    {
     "data": {
      "text/plain": [
       "24"
      ]
     },
     "execution_count": 6,
     "metadata": {},
     "output_type": "execute_result"
    }
   ],
   "source": [
    "n = 987\n",
    "solution(n)"
   ]
  },
  {
   "cell_type": "code",
   "execution_count": null,
   "metadata": {},
   "outputs": [],
   "source": [
    "# 다른 사람 풀이\n",
    "\n",
    "def sum_digit(number):\n",
    "    if number < 10:\n",
    "        return number;\n",
    "    return (number % 10) + sum_digit(number // 10) \n",
    "\n",
    "# 아래는 테스트로 출력해 보기 위한 코드입니다.\n",
    "print(\"결과 : {}\".format(sum_digit(123)));"
   ]
  }
 ],
 "metadata": {
  "kernelspec": {
   "display_name": "aiffel",
   "language": "python",
   "name": "aiffel"
  },
  "language_info": {
   "codemirror_mode": {
    "name": "ipython",
    "version": 3
   },
   "file_extension": ".py",
   "mimetype": "text/x-python",
   "name": "python",
   "nbconvert_exporter": "python",
   "pygments_lexer": "ipython3",
   "version": "3.7.9"
  }
 },
 "nbformat": 4,
 "nbformat_minor": 4
}
