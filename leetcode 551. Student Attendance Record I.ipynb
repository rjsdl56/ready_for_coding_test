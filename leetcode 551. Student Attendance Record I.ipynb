{
 "cells": [
  {
   "cell_type": "code",
   "execution_count": null,
   "metadata": {},
   "outputs": [],
   "source": [
    "You are given a string s representing an attendance record \n",
    "for a student where each character signifies whether the student was absent, late, or present on that day. \n",
    "The record only contains the following three characters:\n",
    "\n",
    "'A': Absent.\n",
    "'L': Late.\n",
    "'P': Present.\n",
    "The student is eligible for an attendance award if they meet both of the following criteria:\n",
    "\n",
    "The student was absent ('A') for strictly fewer than 2 days total.\n",
    "The student was never late ('L') for 3 or more consecutive days.\n",
    "Return true if the student is eligible for an attendance award, or false otherwise.\n",
    "\n",
    " \n",
    "\n",
    "Example 1:\n",
    "\n",
    "Input: s = \"PPALLP\"\n",
    "Output: true\n",
    "Explanation: The student has fewer than 2 absences and was never late 3 or more consecutive days.\n",
    "Example 2:\n",
    "\n",
    "Input: s = \"PPALLL\"\n",
    "Output: false\n",
    "Explanation: The student was late 3 consecutive days in the last 3 days, so is not eligible for the award.\n",
    " \n",
    "\n",
    "Constraints:\n",
    "\n",
    "1 <= s.length <= 1000\n",
    "s[i] is either 'A', 'L', or 'P'."
   ]
  },
  {
   "cell_type": "code",
   "execution_count": null,
   "metadata": {},
   "outputs": [],
   "source": [
    "# 문자열 중 A가 2개 이상 포함되거나, L이 3개 이상 연속해서 나오면 False를 리턴한다."
   ]
  },
  {
   "cell_type": "code",
   "execution_count": 29,
   "metadata": {},
   "outputs": [],
   "source": [
    "def checkRecord(s):\n",
    "    s = list(s)\n",
    "    \n",
    "    if s.count(\"A\") > 1 :\n",
    "        return False\n",
    "    \n",
    "    for x in range(len(s)-2) :\n",
    "        if s[x] == \"L\":\n",
    "            if s[x+1] == s[x+2] == \"L\" :\n",
    "                return False\n",
    "    \n",
    "    \n",
    "    return True\n",
    "            "
   ]
  },
  {
   "cell_type": "code",
   "execution_count": 30,
   "metadata": {},
   "outputs": [
    {
     "data": {
      "text/plain": [
       "True"
      ]
     },
     "execution_count": 30,
     "metadata": {},
     "output_type": "execute_result"
    }
   ],
   "source": [
    "s = \"PPALLP\"\n",
    "checkRecord(s)"
   ]
  },
  {
   "cell_type": "code",
   "execution_count": 31,
   "metadata": {},
   "outputs": [
    {
     "data": {
      "text/plain": [
       "False"
      ]
     },
     "execution_count": 31,
     "metadata": {},
     "output_type": "execute_result"
    }
   ],
   "source": [
    "s = \"PPALLL\"\n",
    "checkRecord(s)"
   ]
  },
  {
   "cell_type": "code",
   "execution_count": 32,
   "metadata": {},
   "outputs": [
    {
     "data": {
      "text/plain": [
       "False"
      ]
     },
     "execution_count": 32,
     "metadata": {},
     "output_type": "execute_result"
    }
   ],
   "source": [
    "s = \"PPAALL\"\n",
    "checkRecord(s)"
   ]
  },
  {
   "cell_type": "code",
   "execution_count": null,
   "metadata": {},
   "outputs": [],
   "source": [
    "# 다른 사람 풀이\n",
    "\n",
    "class Solution:\n",
    "    def checkRecord(self, s: str) -> bool:\n",
    "        \n",
    "        ab = self.checkAbsent(s)  \n",
    "        la = self.checkLate(s)\n",
    "\n",
    "        if ab and la:\n",
    "            return True\n",
    "        \n",
    "        \n",
    "    def checkAbsent(self,s):\n",
    "        \n",
    "        c=0\n",
    "        for i in s:\n",
    "            if i=='A':\n",
    "                c+=1\n",
    "        if c<2:\n",
    "            return True\n",
    "        \n",
    "    def checkLate(self,s):\n",
    "        \n",
    "        if 'LLL' in s:\n",
    "            return False\n",
    "        return True"
   ]
  },
  {
   "cell_type": "code",
   "execution_count": null,
   "metadata": {},
   "outputs": [],
   "source": []
  },
  {
   "cell_type": "code",
   "execution_count": null,
   "metadata": {},
   "outputs": [],
   "source": []
  },
  {
   "cell_type": "code",
   "execution_count": null,
   "metadata": {},
   "outputs": [],
   "source": [
    "# 런타임 에러 발생\n",
    "\n",
    "def checkRecord(s):\n",
    "    s = list(s)\n",
    "    \n",
    "    if s.count(\"A\") > 1 :\n",
    "        return False\n",
    "    \n",
    "    for x in range(len(s)) :\n",
    "        if s[x] == \"L\":\n",
    "            if s[x+1] == \"L\" :\n",
    "                if s[x+2] == \"L\" :\n",
    "                    return False\n",
    "            \n",
    "            \n",
    "    return True"
   ]
  },
  {
   "cell_type": "code",
   "execution_count": null,
   "metadata": {},
   "outputs": [],
   "source": []
  }
 ],
 "metadata": {
  "kernelspec": {
   "display_name": "aiffel",
   "language": "python",
   "name": "aiffel"
  },
  "language_info": {
   "codemirror_mode": {
    "name": "ipython",
    "version": 3
   },
   "file_extension": ".py",
   "mimetype": "text/x-python",
   "name": "python",
   "nbconvert_exporter": "python",
   "pygments_lexer": "ipython3",
   "version": "3.7.9"
  }
 },
 "nbformat": 4,
 "nbformat_minor": 4
}
