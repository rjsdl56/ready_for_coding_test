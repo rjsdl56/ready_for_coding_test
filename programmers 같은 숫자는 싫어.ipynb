{
 "cells": [
  {
   "cell_type": "markdown",
   "metadata": {},
   "source": [
    "\n",
    "문제 설명        \n",
    "\n",
    "배열 arr가 주어집니다. 배열 arr의 각 원소는 숫자 0부터 9까지로 이루어져 있습니다. 이때, 배열 arr에서 연속적으로 나타나는 숫자는 하나만 남기고 전부 제거하려고 합니다. 단, 제거된 후 남은 수들을 반환할 때는 배열 arr의 원소들의 순서를 유지해야 합니다. 예를 들면,   \n",
    "\n",
    "    arr = [1, 1, 3, 3, 0, 1, 1] 이면 [1, 3, 0, 1] 을 return 합니다.      \n",
    "    arr = [4, 4, 4, 3, 3] 이면 [4, 3] 을 return 합니다.        \n",
    "\n",
    "배열 arr에서 연속적으로 나타나는 숫자는 제거하고 남은 수들을 return 하는 solution 함수를 완성해 주세요.         \n",
    "제한사항       \n",
    "\n",
    "    배열 arr의 크기 : 1,000,000 이하의 자연수        \n",
    "    배열 arr의 원소의 크기 : 0보다 크거나 같고 9보다 작거나 같은 정수        \n",
    "\n",
    "입출력 예       \n",
    "arr \tanswer       \n",
    "[1,1,3,3,0,1,1] \t[1,3,0,1]       \n",
    "[4,4,4,3,3] \t[4,3]        \n",
    "입출력 예 설명        \n",
    "\n",
    "입출력 예 #1,2        \n",
    "문제의 예시와 같습니다.    \n"
   ]
  },
  {
   "cell_type": "code",
   "execution_count": 2,
   "metadata": {},
   "outputs": [
    {
     "name": "stdout",
     "output_type": "stream",
     "text": [
      "Hello Python\n",
      "Hello Python\n"
     ]
    },
    {
     "data": {
      "text/plain": [
       "[3, 4]"
      ]
     },
     "execution_count": 2,
     "metadata": {},
     "output_type": "execute_result"
    }
   ],
   "source": [
    "def solution(arr):\n",
    "    answer = []\n",
    "    new_set = set(arr)\n",
    "    answer = list(new_set)\n",
    "    \n",
    "    \n",
    "    print('Hello Python')\n",
    "    return answer\n",
    "\n",
    "arr = [1,1,3,3,0,1,1] # [1,3,0,1]\n",
    "arr1 = [4,4,4,3,3] # [4,3]\n",
    "solution(arr)\n",
    "solution(arr1)\n",
    "\n",
    "# 이건 순서가 정렬되서 실패\n"
   ]
  },
  {
   "cell_type": "code",
   "execution_count": 3,
   "metadata": {},
   "outputs": [
    {
     "data": {
      "text/plain": [
       "[4, 3]"
      ]
     },
     "execution_count": 3,
     "metadata": {},
     "output_type": "execute_result"
    }
   ],
   "source": [
    "def solution(arr):\n",
    "    answer = []\n",
    "    for x in arr :\n",
    "        if x not in answer :\n",
    "            answer.append(x)\n",
    "    return answer\n",
    "\n",
    "arr1 = [4,4,4,3,3]\n",
    "solution(arr1)\n",
    "\n",
    "# 아 중복이 아니라 연속되는 걸 넣어야 하는구나"
   ]
  },
  {
   "cell_type": "code",
   "execution_count": 8,
   "metadata": {},
   "outputs": [
    {
     "data": {
      "text/plain": [
       "[1, 3, 0, 1]"
      ]
     },
     "execution_count": 8,
     "metadata": {},
     "output_type": "execute_result"
    }
   ],
   "source": [
    "# 다시 재도전\n",
    "\n",
    "def solution(arr):\n",
    "    answer = []\n",
    "    num = len(arr)\n",
    "    \n",
    "    # 먼저 하나 넣고 시작하자\n",
    "    answer.append(arr[0])\n",
    "    for x in range(1, num):\n",
    "        answer_num = len(answer)\n",
    "        if arr[x] != answer[answer_num-1]:\n",
    "            answer.append(arr[x])\n",
    "    \n",
    "    return answer\n",
    "\n",
    "arr1 = [1,1,3,3,0,1,1]\n",
    "solution(arr1)"
   ]
  },
  {
   "cell_type": "code",
   "execution_count": null,
   "metadata": {},
   "outputs": [],
   "source": [
    "## 다른 사람 코드\n",
    "\n",
    "def no_continuous(s):\n",
    "    a = []\n",
    "    for i in s:\n",
    "        if a[-1:] == [i]: continue\n",
    "        a.append(i)\n",
    "    return a"
   ]
  }
 ],
 "metadata": {
  "kernelspec": {
   "display_name": "pydatavenv",
   "language": "python",
   "name": "pydatavenv"
  },
  "language_info": {
   "codemirror_mode": {
    "name": "ipython",
    "version": 3
   },
   "file_extension": ".py",
   "mimetype": "text/x-python",
   "name": "python",
   "nbconvert_exporter": "python",
   "pygments_lexer": "ipython3",
   "version": "3.7.9"
  }
 },
 "nbformat": 4,
 "nbformat_minor": 4
}
