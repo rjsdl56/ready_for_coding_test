{
 "cells": [
  {
   "cell_type": "code",
   "execution_count": null,
   "metadata": {},
   "outputs": [],
   "source": [
    "문제 설명\n",
    "문자열로 구성된 리스트 strings와, 정수 n이 주어졌을 때, 각 문자열의 인덱스 n번째 글자를 기준으로 오름차순 정렬하려 합니다. \n",
    "예를 들어 strings가 [\"sun\", \"bed\", \"car\"]이고 n이 1이면 각 단어의 인덱스 1의 문자 \"u\", \"e\", \"a\"로 strings를 정렬합니다.\n",
    "\n",
    "제한 조건\n",
    "strings는 길이 1 이상, 50이하인 배열입니다.\n",
    "strings의 원소는 소문자 알파벳으로 이루어져 있습니다.\n",
    "strings의 원소는 길이 1 이상, 100이하인 문자열입니다.\n",
    "모든 strings의 원소의 길이는 n보다 큽니다.\n",
    "인덱스 1의 문자가 같은 문자열이 여럿 일 경우, 사전순으로 앞선 문자열이 앞쪽에 위치합니다.\n",
    "\n",
    "입출력 예\n",
    "strings\tn\treturn\n",
    "[\"sun\", \"bed\", \"car\"]\t1\t[\"car\", \"bed\", \"sun\"]\n",
    "[\"abce\", \"abcd\", \"cdx\"]\t2\t[\"abcd\", \"abce\", \"cdx\"]\n",
    "\n",
    "입출력 예 설명\n",
    "입출력 예 1\n",
    "\"sun\", \"bed\", \"car\"의 1번째 인덱스 값은 각각 \"u\", \"e\", \"a\" 입니다. 이를 기준으로 strings를 정렬하면 [\"car\", \"bed\", \"sun\"] 입니다.\n",
    "\n",
    "입출력 예 2\n",
    "\"abce\"와 \"abcd\", \"cdx\"의 2번째 인덱스 값은 \"c\", \"c\", \"x\"입니다. 따라서 정렬 후에는 \"cdx\"가 가장 뒤에 위치합니다. \n",
    "\"abce\"와 \"abcd\"는 사전순으로 정렬하면 \"abcd\"가 우선하므로, 답은 [\"abcd\", \"abce\", \"cdx\"] 입니다."
   ]
  },
  {
   "cell_type": "code",
   "execution_count": 30,
   "metadata": {},
   "outputs": [],
   "source": [
    "def solution(strings, n):\n",
    "    answer = []\n",
    "    \n",
    "    n_list = []\n",
    "    for x in strings :\n",
    "        check = x[n] + x\n",
    "        n_list.append(check)\n",
    "    \n",
    "    n_list = sorted(n_list)\n",
    "    \n",
    "    for y in n_list :\n",
    "        answer.append(y[1:])\n",
    "    \n",
    "    return answer\n"
   ]
  },
  {
   "cell_type": "code",
   "execution_count": 31,
   "metadata": {},
   "outputs": [
    {
     "data": {
      "text/plain": [
       "['car', 'bed', 'sun']"
      ]
     },
     "execution_count": 31,
     "metadata": {},
     "output_type": "execute_result"
    }
   ],
   "source": [
    "strings = [\"sun\", \"bed\", \"car\"]\n",
    "n = 1\n",
    "\n",
    "solution(strings, n)"
   ]
  },
  {
   "cell_type": "code",
   "execution_count": 32,
   "metadata": {},
   "outputs": [
    {
     "data": {
      "text/plain": [
       "['abcd', 'abce', 'cdx']"
      ]
     },
     "execution_count": 32,
     "metadata": {},
     "output_type": "execute_result"
    }
   ],
   "source": [
    "strings = [\"abce\", \"abcd\", \"cdx\"]\n",
    "n = 2\n",
    "\n",
    "solution(strings, n)"
   ]
  },
  {
   "cell_type": "code",
   "execution_count": null,
   "metadata": {},
   "outputs": [],
   "source": [
    "## 처참한 시도\n",
    "\n",
    "# 첫번째 예시는 됨 ==> 중복되는 키가 오면 지워버림 // 딕셔너리로 하면 안됨\n",
    "\n",
    "# def solution(strings, n):\n",
    "    \n",
    "#     answer_dict = {}\n",
    "#     for x in strings :\n",
    "#         answer_dict[x[n]] = x\n",
    "        \n",
    "#     answer_list = []\n",
    "#     for z in sorted(answer_dict) :\n",
    "#         answer_list.append(answer_dict[z])\n",
    "\n",
    "        \n",
    "#     return answer_list\n",
    "\n",
    "# strings = [\"sun\", \"bed\", \"car\"]\n",
    "# n = 1\n",
    "\n",
    "# solution(strings, n)"
   ]
  },
  {
   "cell_type": "code",
   "execution_count": null,
   "metadata": {},
   "outputs": [],
   "source": [
    "## 다른 사람 풀이\n",
    "\n",
    "def strange_sort(strings, n):\n",
    "    '''strings의 문자열들을 n번째 글자를 기준으로 정렬해서 return하세요'''\n",
    "    return sorted(strings, key=lambda x: x[n])\n",
    "\n",
    "strings = [\"sun\", \"bed\", \"car\"] \n",
    "print(strange_sort(strings, 1))"
   ]
  }
 ],
 "metadata": {
  "kernelspec": {
   "display_name": "aiffel",
   "language": "python",
   "name": "aiffel"
  },
  "language_info": {
   "codemirror_mode": {
    "name": "ipython",
    "version": 3
   },
   "file_extension": ".py",
   "mimetype": "text/x-python",
   "name": "python",
   "nbconvert_exporter": "python",
   "pygments_lexer": "ipython3",
   "version": "3.7.9"
  }
 },
 "nbformat": 4,
 "nbformat_minor": 4
}
