{
 "cells": [
  {
   "cell_type": "code",
   "execution_count": null,
   "metadata": {},
   "outputs": [],
   "source": [
    "문제 설명\n",
    "자연수 n이 매개변수로 주어집니다. \n",
    "n을 3진법 상에서 앞뒤로 뒤집은 후, 이를 다시 10진법으로 표현한 수를 return 하도록 solution 함수를 완성해주세요.\n",
    "\n",
    "제한사항\n",
    "n은 1 이상 100,000,000 이하인 자연수입니다.\n",
    "입출력 예\n",
    "n\tresult\n",
    "45\t7\n",
    "125\t229\n",
    "입출력 예 설명\n",
    "입출력 예 #1\n",
    "\n",
    "답을 도출하는 과정은 다음과 같습니다.\n",
    "n (10진법)\tn (3진법)\t앞뒤 반전(3진법)\t10진법으로 표현\n",
    "45\t1200\t0021\t7\n",
    "따라서 7을 return 해야 합니다.\n",
    "입출력 예 #2\n",
    "\n",
    "답을 도출하는 과정은 다음과 같습니다.\n",
    "n (10진법)\tn (3진법)\t앞뒤 반전(3진법)\t10진법으로 표현\n",
    "125\t11122\t22111\t229\n",
    "따라서 229를 return 해야 합니다."
   ]
  },
  {
   "cell_type": "code",
   "execution_count": null,
   "metadata": {},
   "outputs": [],
   "source": [
    "맨 뒷자리 : 0 ~ 2\n",
    "뒤에서 2번째 : 3 ~ 8\n",
    "뒤에서 3번째 : 9 ~ 26\n",
    "뒤에서 4번째 : 27 ~"
   ]
  },
  {
   "cell_type": "code",
   "execution_count": 56,
   "metadata": {},
   "outputs": [],
   "source": [
    "# 다른 사람 코드\n",
    "def solution(n) :\n",
    "    answer = 0\n",
    "    nums = []\n",
    "    \n",
    "    while n > 0 :\n",
    "        nums.append(n%3) \n",
    "        n = n //3 \n",
    "        \n",
    "    nums.reverse()\n",
    "    \n",
    "    for i, val in enumerate(nums):\n",
    "        answer += val * 3**i\n",
    "        \n",
    "    return answer"
   ]
  },
  {
   "cell_type": "code",
   "execution_count": 53,
   "metadata": {},
   "outputs": [],
   "source": [
    "# 삼진법 자리수 함수부터 구해볼까?\n",
    "\n",
    "def three(n) :\n",
    "    # 3보다 작을 때\n",
    "    if n < 3 :\n",
    "        return 0\n",
    "    # 3보다 클 때\n",
    "    num = 1\n",
    "    while True :\n",
    "        if 3**(num+1) > n >= 3**num :\n",
    "            break\n",
    "        num += 1\n",
    "    return num\n",
    "\n",
    "\n",
    "\n",
    "# 삼진법 함수\n",
    "def three_2(n):\n",
    "    # 몇개의 자리가 있을까요\n",
    "    length = three(n)\n",
    "    \n",
    "    # 삼진법 자리수 구하기\n",
    "    list1 = [0] * length\n",
    "    \n",
    "    # 이제 자리수마다 3의 제곱들을 빼주고 해당 자리에 1~2를 추가\n",
    "#     while i != length :\n",
    "        i = 0\n",
    "        \n",
    "        # 첫번째 자리 판단\n",
    "        if n - 2*(3**length)  >= 0 :\n",
    "            list1[i] = 2\n",
    "        elif n - 3**(length) >= 0 :\n",
    "            list[i] = 1\n",
    "            \n",
    "        # 두번째 자리 판단\n",
    "        else :\n",
    "            length -= 1\n",
    "            \n",
    "            if n - 2\n",
    "            \n",
    "    \n",
    "    # 나온값을 reverse()\n",
    "    \n",
    "    \n",
    "    # 나온 3진수값을 다시 10진수로 변환\n",
    "    \n",
    "    \n",
    "    \n",
    "    return(list1)\n",
    "            \n",
    "\n",
    "    "
   ]
  },
  {
   "cell_type": "code",
   "execution_count": 57,
   "metadata": {},
   "outputs": [
    {
     "data": {
      "text/plain": [
       "7"
      ]
     },
     "execution_count": 57,
     "metadata": {},
     "output_type": "execute_result"
    }
   ],
   "source": [
    "n = 45 # 1200 ==> 27(3**3) + 18(3**2 *2)\n",
    "solution(n)"
   ]
  },
  {
   "cell_type": "code",
   "execution_count": 58,
   "metadata": {},
   "outputs": [
    {
     "data": {
      "text/plain": [
       "229"
      ]
     },
     "execution_count": 58,
     "metadata": {},
     "output_type": "execute_result"
    }
   ],
   "source": [
    "n = 125 # 11122 ==> 81 + 27 + 9 + 6 + 2\n",
    "solution(n)"
   ]
  },
  {
   "cell_type": "code",
   "execution_count": null,
   "metadata": {},
   "outputs": [],
   "source": []
  },
  {
   "cell_type": "code",
   "execution_count": null,
   "metadata": {},
   "outputs": [],
   "source": []
  },
  {
   "cell_type": "code",
   "execution_count": null,
   "metadata": {},
   "outputs": [],
   "source": []
  }
 ],
 "metadata": {
  "kernelspec": {
   "display_name": "aiffel",
   "language": "python",
   "name": "aiffel"
  },
  "language_info": {
   "codemirror_mode": {
    "name": "ipython",
    "version": 3
   },
   "file_extension": ".py",
   "mimetype": "text/x-python",
   "name": "python",
   "nbconvert_exporter": "python",
   "pygments_lexer": "ipython3",
   "version": "3.7.9"
  }
 },
 "nbformat": 4,
 "nbformat_minor": 4
}
