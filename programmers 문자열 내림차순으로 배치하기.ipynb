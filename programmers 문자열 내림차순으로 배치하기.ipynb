{
 "cells": [
  {
   "cell_type": "code",
   "execution_count": null,
   "metadata": {},
   "outputs": [],
   "source": [
    "문제 설명\n",
    "문자열 s에 나타나는 문자를 큰것부터 작은 순으로 정렬해 새로운 문자열을 리턴하는 함수, solution을 완성해주세요.\n",
    "s는 영문 대소문자로만 구성되어 있으며, 대문자는 소문자보다 작은 것으로 간주합니다.\n",
    "\n",
    "제한 사항\n",
    "str은 길이 1 이상인 문자열입니다.\n",
    "입출력 예\n",
    "s\treturn\n",
    "\"Zbcdefg\"\t\"gfedcbZ\""
   ]
  },
  {
   "cell_type": "code",
   "execution_count": 37,
   "metadata": {},
   "outputs": [
    {
     "name": "stdout",
     "output_type": "stream",
     "text": [
      "['g', 'f', 'e', 'd', 'c', 'b', 'Z']\n",
      "gfedcbZ\n"
     ]
    }
   ],
   "source": [
    "def solution(s):\n",
    "    \n",
    "    s = list(s)\n",
    "    new_list = []\n",
    "    s.sort(reverse=True)\n",
    "    print(s)\n",
    "    \n",
    "    answer = \"\"\n",
    "    for x in s :\n",
    "        answer += x\n",
    "\n",
    "    return answer\n",
    "\n",
    "s = \"Zbcdefg\" # \"gfedcbZ\"\n",
    "solution(s) "
   ]
  },
  {
   "cell_type": "code",
   "execution_count": 38,
   "metadata": {},
   "outputs": [
    {
     "data": {
      "text/plain": [
       "'gfedcbZ'"
      ]
     },
     "execution_count": 38,
     "metadata": {},
     "output_type": "execute_result"
    }
   ],
   "source": [
    "def solution(s):\n",
    "    return ''.join(sorted(s, reverse=True))\n",
    "s = \"Zbcdefg\" # \"gfedcbZ\"\n",
    "solution(s) "
   ]
  },
  {
   "cell_type": "code",
   "execution_count": 39,
   "metadata": {},
   "outputs": [
    {
     "data": {
      "text/plain": [
       "['g', 'f', 'e', 'd', 'c', 'b', 'Z']"
      ]
     },
     "execution_count": 39,
     "metadata": {},
     "output_type": "execute_result"
    }
   ],
   "source": [
    "def solution(s):\n",
    "    return sorted(s,reverse=True)\n",
    "\n",
    "\n",
    "# join을 활용해 붙여버릴 수 있다.\n",
    "\n",
    "s = \"Zbcdefg\" # \"gfedcbZ\"\n",
    "solution(s) "
   ]
  },
  {
   "cell_type": "code",
   "execution_count": null,
   "metadata": {},
   "outputs": [],
   "source": []
  }
 ],
 "metadata": {
  "kernelspec": {
   "display_name": "pydatavenv",
   "language": "python",
   "name": "pydatavenv"
  },
  "language_info": {
   "codemirror_mode": {
    "name": "ipython",
    "version": 3
   },
   "file_extension": ".py",
   "mimetype": "text/x-python",
   "name": "python",
   "nbconvert_exporter": "python",
   "pygments_lexer": "ipython3",
   "version": "3.7.9"
  }
 },
 "nbformat": 4,
 "nbformat_minor": 4
}
