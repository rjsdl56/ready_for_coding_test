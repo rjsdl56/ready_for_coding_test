{
 "cells": [
  {
   "cell_type": "code",
   "execution_count": 10,
   "metadata": {},
   "outputs": [
    {
     "name": "stdout",
     "output_type": "stream",
     "text": [
      "참가자 ['stanko', 'mislav', 'ana']\n",
      "완주자 ['stanko', 'ana']\n",
      "참가자 ['mislav', 'ana']\n",
      "완주자 ['ana']\n",
      "참가자 ['mislav']\n",
      "완주자 []\n"
     ]
    },
    {
     "data": {
      "text/plain": [
       "'mislav'"
      ]
     },
     "execution_count": 10,
     "metadata": {},
     "output_type": "execute_result"
    }
   ],
   "source": [
    "def solution(participant, completion):\n",
    "    \n",
    "    answer = ''\n",
    "    new_participant = participant.copy()\n",
    "    \n",
    "    for x in new_participant :\n",
    "        if x in completion :\n",
    "            participant.remove(x)\n",
    "            completion.remove(x)\n",
    "            print(\"참가자\",participant)\n",
    "            print(\"완주자\", completion)\n",
    "            \n",
    "    answer = participant[0]\n",
    "    return answer\n",
    "\n",
    "participant = [\"mislav\", \"stanko\", \"mislav\", \"ana\"]\n",
    "completion = [\"stanko\", \"ana\", \"mislav\"]\n",
    "\n",
    "solution(participant, completion)\n",
    "\n",
    "\n",
    "# 문제는 품!! 하지만 효율성 테스트에서 떨어짐\n",
    "# runtime error"
   ]
  },
  {
   "cell_type": "code",
   "execution_count": null,
   "metadata": {},
   "outputs": [],
   "source": []
  },
  {
   "cell_type": "code",
   "execution_count": null,
   "metadata": {},
   "outputs": [],
   "source": [
    "## 처참한 시도 흔적\n",
    "\n",
    "\n",
    "## 이거는 중복되는 것만 찾아내려고 한 코드\n",
    "\n",
    "from collections import Counter\n",
    "\n",
    "def solution(participant, completion):\n",
    "    \n",
    "    answer = ''\n",
    "    \n",
    "    new_list = Counter(participant)\n",
    "    items = dict(new_list)\n",
    "    print(items)\n",
    "    \n",
    "    for key in items:\n",
    "        if items[key] > 1 :\n",
    "            answer = key\n",
    "            \n",
    "            \n",
    "    return answer\n",
    "    \n",
    "\n",
    "participant = [\"mislav\", \"stanko\", \"mislav\", \"ana\"]\n",
    "completion = [\"stanko\", \"ana\", \"mislav\"]\n",
    "\n",
    "# mislav 가 남아야 함\n",
    "\n",
    "\n",
    "solution(participant, completion)"
   ]
  }
 ],
 "metadata": {
  "kernelspec": {
   "display_name": "aiffel",
   "language": "python",
   "name": "aiffel"
  },
  "language_info": {
   "codemirror_mode": {
    "name": "ipython",
    "version": 3
   },
   "file_extension": ".py",
   "mimetype": "text/x-python",
   "name": "python",
   "nbconvert_exporter": "python",
   "pygments_lexer": "ipython3",
   "version": "3.7.9"
  }
 },
 "nbformat": 4,
 "nbformat_minor": 4
}
