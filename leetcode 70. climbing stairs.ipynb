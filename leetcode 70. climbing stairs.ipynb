{
 "cells": [
  {
   "cell_type": "code",
   "execution_count": null,
   "metadata": {},
   "outputs": [],
   "source": [
    "You are climbing a staircase. It takes n steps to reach the top.\n",
    "\n",
    "Each time you can either climb 1 or 2 steps. In how many distinct ways can you climb to the top?\n",
    "\n",
    "Example 1:\n",
    "\n",
    "Input: n = 2\n",
    "Output: 2\n",
    "Explanation: There are two ways to climb to the top.\n",
    "1. 1 step + 1 step\n",
    "2. 2 steps\n",
    "Example 2:\n",
    "\n",
    "Input: n = 3\n",
    "Output: 3\n",
    "Explanation: There are three ways to climb to the top.\n",
    "1. 1 step + 1 step + 1 step\n",
    "2. 1 step + 2 steps\n",
    "3. 2 steps + 1 step\n",
    "\n",
    "\n",
    "Constraints:\n",
    "1 <= n <= 45"
   ]
  },
  {
   "cell_type": "code",
   "execution_count": 6,
   "metadata": {},
   "outputs": [
    {
     "data": {
      "text/plain": [
       "3"
      ]
     },
     "execution_count": 6,
     "metadata": {},
     "output_type": "execute_result"
    }
   ],
   "source": [
    "# 증가 순서 1, 2, 3, 5, 8, 13, ~\n",
    "\n",
    "\n",
    "def climbStairs(n) :\n",
    "    answer = [0,1,2]\n",
    "\n",
    "    for x in range(3,46):\n",
    "        answer.append(answer[x-2] + answer[x-1])\n",
    "\n",
    "    return answer[n]\n",
    "        \n",
    "n = 3\n",
    "climbStairs(n)"
   ]
  },
  {
   "cell_type": "code",
   "execution_count": 2,
   "metadata": {},
   "outputs": [
    {
     "data": {
      "text/plain": [
       "2"
      ]
     },
     "execution_count": 2,
     "metadata": {},
     "output_type": "execute_result"
    }
   ],
   "source": [
    "## 피보나치 수열과 일치하지 않음!! 다시 생각해볼 것\n",
    "\n",
    "# memory = {1: 1, 2: 1}\n",
    "\n",
    "# def fibonacci(n):\n",
    "#     if n in memory:\n",
    "#         number = memory[n]\n",
    "#     else:\n",
    "#         number = fibonacci(n-1) + fibonacci(n-2)\n",
    "#         memory[n] = number\n",
    "#     return number\n",
    "\n",
    "# n = 3\n",
    "# fibonacci(n)\n"
   ]
  },
  {
   "cell_type": "code",
   "execution_count": null,
   "metadata": {},
   "outputs": [],
   "source": [
    "# 가장 빠른 솔루션\n",
    "\n",
    "class Solution:\n",
    "    def climbStairs(self, n: int) -> int:\n",
    "        stairs = [0]*n\n",
    "        stairs[0] = 1\n",
    "        if n == 1:\n",
    "            return stairs[0]\n",
    "        stairs[1] = 2\n",
    "        for i in range(2, n):\n",
    "            stairs[i] = stairs[i - 1] + stairs[i - 2]\n",
    "        return stairs[n - 1]"
   ]
  }
 ],
 "metadata": {
  "kernelspec": {
   "display_name": "aiffel",
   "language": "python",
   "name": "aiffel"
  },
  "language_info": {
   "codemirror_mode": {
    "name": "ipython",
    "version": 3
   },
   "file_extension": ".py",
   "mimetype": "text/x-python",
   "name": "python",
   "nbconvert_exporter": "python",
   "pygments_lexer": "ipython3",
   "version": "3.7.9"
  }
 },
 "nbformat": 4,
 "nbformat_minor": 4
}
