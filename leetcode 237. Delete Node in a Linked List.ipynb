{
 "cells": [
  {
   "cell_type": "code",
   "execution_count": 1,
   "metadata": {},
   "outputs": [],
   "source": [
    "class ListNode:\n",
    "    def __init__(self, x):\n",
    "        self.val = x\n",
    "        self.next = None\n",
    "\n",
    "\n",
    "class Solution:\n",
    "    def deleteNode(self, node):\n",
    "        \"\"\"\n",
    "        :type node: ListNode\n",
    "        :rtype: void Do not return anything, modify node in-place instead.\n",
    "        \"\"\"\n",
    "        node.val = node.next.val \n",
    "        node.next = node.next.next\n",
    "        \n",
    "        \n",
    "# head = [4,5,1,9], node = 5 이라고 가정해보자.\n",
    "# 그렇다면 결과값은 [4,1,9] 로 나와야 한다.\n",
    "\n",
    "# 이게 무슨 말인지 모르겠다.\n",
    "# 그냥 remove로 없애면 되는 거 아닌가\n",
    "\n",
    "\n",
    "# 예를 들어 node를 5로 주면\n",
    "# 5.val = 1\n",
    "# 5.next = 9 인건가\n",
    "# 중간에 건너뛰는 거 같다.\n"
   ]
  },
  {
   "cell_type": "code",
   "execution_count": null,
   "metadata": {},
   "outputs": [],
   "source": []
  }
 ],
 "metadata": {
  "kernelspec": {
   "display_name": "aiffel",
   "language": "python",
   "name": "aiffel"
  },
  "language_info": {
   "codemirror_mode": {
    "name": "ipython",
    "version": 3
   },
   "file_extension": ".py",
   "mimetype": "text/x-python",
   "name": "python",
   "nbconvert_exporter": "python",
   "pygments_lexer": "ipython3",
   "version": "3.7.9"
  }
 },
 "nbformat": 4,
 "nbformat_minor": 4
}
