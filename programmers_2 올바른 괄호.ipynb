{
 "cells": [
  {
   "cell_type": "code",
   "execution_count": null,
   "metadata": {},
   "outputs": [],
   "source": [
    "문제 설명\n",
    "괄호가 바르게 짝지어졌다는 것은 '(' 문자로 열렸으면 반드시 짝지어서 ')' 문자로 닫혀야 한다는 뜻입니다. 예를 들어\n",
    "\n",
    "\"()()\" 또는 \"(())()\" 는 올바른 괄호입니다.\n",
    "\")()(\" 또는 \"(()(\" 는 올바르지 않은 괄호입니다.\n",
    "'(' 또는 ')' 로만 이루어진 문자열 s가 주어졌을 때, 문자열 s가 올바른 괄호이면 true를 return 하고, 올바르지 않은 괄호이면 false를 return 하는 solution 함수를 완성해 주세요.\n",
    "\n",
    "제한사항\n",
    "문자열 s의 길이 : 100,000 이하의 자연수\n",
    "문자열 s는 '(' 또는 ')' 로만 이루어져 있습니다.\n",
    "\n",
    "입출력 예\n",
    "s\tanswer\n",
    "\"()()\"\ttrue\n",
    "\"(())()\"\ttrue\n",
    "\")()(\"\tfalse\n",
    "\"(()(\"\tfalse\n",
    "\n",
    "입출력 예 설명\n",
    "입출력 예 #1,2,3,4\n",
    "문제의 예시와 같습니다."
   ]
  },
  {
   "cell_type": "code",
   "execution_count": 54,
   "metadata": {},
   "outputs": [],
   "source": [
    "# 다른 사람 풀이\n",
    "\n",
    "from collections import deque\n",
    "\n",
    "def solution(s):\n",
    "    answer = True\n",
    "    q = deque()\n",
    "\n",
    "    for i in s:\n",
    "        if i=='(':\n",
    "            q.append(i)\n",
    "        else:\n",
    "            if len(q)==0 or q.pop()==')':\n",
    "                return False\n",
    "\n",
    "    if len(q)!=0:\n",
    "        return False\n",
    "\n",
    "    return True\n"
   ]
  },
  {
   "cell_type": "code",
   "execution_count": null,
   "metadata": {},
   "outputs": [],
   "source": []
  },
  {
   "cell_type": "code",
   "execution_count": 55,
   "metadata": {},
   "outputs": [
    {
     "data": {
      "text/plain": [
       "True"
      ]
     },
     "execution_count": 55,
     "metadata": {},
     "output_type": "execute_result"
    }
   ],
   "source": [
    "s = \"()()\" # true\n",
    "solution(s)"
   ]
  },
  {
   "cell_type": "code",
   "execution_count": 56,
   "metadata": {},
   "outputs": [
    {
     "data": {
      "text/plain": [
       "True"
      ]
     },
     "execution_count": 56,
     "metadata": {},
     "output_type": "execute_result"
    }
   ],
   "source": [
    "s = \"(())()\" # true\n",
    "solution(s)"
   ]
  },
  {
   "cell_type": "code",
   "execution_count": 57,
   "metadata": {},
   "outputs": [
    {
     "data": {
      "text/plain": [
       "False"
      ]
     },
     "execution_count": 57,
     "metadata": {},
     "output_type": "execute_result"
    }
   ],
   "source": [
    "s = \")()(\"# false\n",
    "solution(s)"
   ]
  },
  {
   "cell_type": "code",
   "execution_count": 58,
   "metadata": {},
   "outputs": [
    {
     "data": {
      "text/plain": [
       "False"
      ]
     },
     "execution_count": 58,
     "metadata": {},
     "output_type": "execute_result"
    }
   ],
   "source": [
    "s = \"(()(\" # false\n",
    "solution(s)"
   ]
  },
  {
   "cell_type": "code",
   "execution_count": null,
   "metadata": {},
   "outputs": [],
   "source": [
    "## 런타임 에러 4, 5, 11, 18\n",
    "\n",
    "def solution(s):\n",
    "    \n",
    "    # 판단용 셋, 딕셔너리\n",
    "    open_str = '('\n",
    "    close_dict = {')':'('}\n",
    "\n",
    "    # 문자열을 리스트화\n",
    "    s = list(s)\n",
    "\n",
    "    # 첫 시작부터 닫힌 괄호면 false를 리턴\n",
    "    if s[0] == \")\":\n",
    "        return False\n",
    "    \n",
    "    # 짝수가 아니면 false 리턴\n",
    "    if len(s) % 2 != 0 :\n",
    "        return False\n",
    "    \n",
    "    \n",
    "    check_list = []\n",
    "    # 열린 괄호가 나오면 닫힌 괄호를 하나 찾아 닫는 형식으로\n",
    "    for x in s: # for문으로 하나씩 살펴본다.\n",
    "        if x == open_str : # 여는 괄호라면?\n",
    "            check_list.append(x) # check_list에 넣는다.\n",
    "            \n",
    "        else : # 닫는 괄호라면?\n",
    "            if check_list[-1] == close_dict[x]: # 만약 close_dict[x]값이, 가장 최근의 check_list값과 일치한다면?\n",
    "                check_list.pop() # 그럼 하나 빼고\n",
    "            else : # 아니면 False\n",
    "                return False\n",
    "\n",
    "    # 만약 남은 것이 존재하면 false를 리턴\n",
    "    if len(check_list) > 0 :\n",
    "        return False\n",
    "    \n",
    "    \n",
    "    return True"
   ]
  },
  {
   "cell_type": "code",
   "execution_count": null,
   "metadata": {},
   "outputs": [],
   "source": [
    "# 런타임 에러 4, 5, 11, 18\n",
    "\n",
    "def solution(s):\n",
    "\n",
    "    # 첫 시작부터 닫힌 괄호면 false를 리턴\n",
    "    if s[0] == \")\":\n",
    "        return False\n",
    "    \n",
    "    # 짝수가 아니면 false 리턴\n",
    "    if len(s) % 2 != 0 :\n",
    "        return False\n",
    "    \n",
    "    count = []\n",
    "    for x in range(len(s)) :\n",
    "        if s[x] == \"(\" :\n",
    "            count.append(1)\n",
    "        else :\n",
    "            count.pop()\n",
    "        \n",
    "    return len(count)==0\n"
   ]
  },
  {
   "cell_type": "code",
   "execution_count": null,
   "metadata": {},
   "outputs": [],
   "source": [
    "# 다른 사람 풀이\n",
    "\n",
    "from collections import deque\n",
    "\n",
    "def solution(s):\n",
    "    answer = True\n",
    "    q = deque()\n",
    "\n",
    "    for i in s:\n",
    "        if i=='(':\n",
    "            q.append(i)\n",
    "        else:\n",
    "            if len(q)==0 or q.pop()==')':\n",
    "                return False\n",
    "\n",
    "    if len(q)!=0:\n",
    "        return False\n",
    "\n",
    "    return True"
   ]
  }
 ],
 "metadata": {
  "kernelspec": {
   "display_name": "aiffel",
   "language": "python",
   "name": "aiffel"
  },
  "language_info": {
   "codemirror_mode": {
    "name": "ipython",
    "version": 3
   },
   "file_extension": ".py",
   "mimetype": "text/x-python",
   "name": "python",
   "nbconvert_exporter": "python",
   "pygments_lexer": "ipython3",
   "version": "3.7.9"
  }
 },
 "nbformat": 4,
 "nbformat_minor": 4
}
