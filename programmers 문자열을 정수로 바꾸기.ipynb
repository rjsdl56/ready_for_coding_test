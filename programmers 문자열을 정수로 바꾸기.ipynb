{
 "cells": [
  {
   "cell_type": "code",
   "execution_count": null,
   "metadata": {},
   "outputs": [],
   "source": [
    "문자열 s를 숫자로 변환한 결과를 반환하는 함수, solution을 완성하세요.\n",
    "\n",
    "제한 조건\n",
    "s의 길이는 1 이상 5이하입니다.\n",
    "s의 맨앞에는 부호(+, -)가 올 수 있습니다.\n",
    "s는 부호와 숫자로만 이루어져있습니다.\n",
    "s는 \"0\"으로 시작하지 않습니다.\n",
    "입출력 예\n",
    "예를들어 str이 \"1234\"이면 1234를 반환하고, \"-1234\"이면 -1234를 반환하면 됩니다.\n",
    "str은 부호(+,-)와 숫자로만 구성되어 있고, 잘못된 값이 입력되는 경우는 없습니다."
   ]
  },
  {
   "cell_type": "code",
   "execution_count": 8,
   "metadata": {},
   "outputs": [
    {
     "name": "stdout",
     "output_type": "stream",
     "text": [
      "-1234\n"
     ]
    }
   ],
   "source": [
    "import re\n",
    "\n",
    "def solution(s):\n",
    "  \n",
    "    s = int(s)\n",
    "    print(s)\n",
    "#     mark = s[0]\n",
    "#     s = int(s[1:])\n",
    "    \n",
    "#     if mark == '-' :\n",
    "        \n",
    "\n",
    "    \n",
    "#     answer = 0\n",
    "#     return answer\n",
    "\n",
    "\n",
    "s = \"-1234\"\n",
    "solution(s)"
   ]
  },
  {
   "cell_type": "code",
   "execution_count": 9,
   "metadata": {},
   "outputs": [
    {
     "data": {
      "text/plain": [
       "1234"
      ]
     },
     "execution_count": 9,
     "metadata": {},
     "output_type": "execute_result"
    }
   ],
   "source": [
    "def solution(s):\n",
    "  \n",
    "\n",
    "    mark = s[0]\n",
    "    s = int(s[1:])\n",
    "    \n",
    "    if mark == '-' :\n",
    "        s * -1\n",
    "      \n",
    "    answer = 0      \n",
    "    answer = s\n",
    "    \n",
    "\n",
    "    return answer\n",
    "\n",
    "\n",
    "s = \"-1234\"\n",
    "solution(s)"
   ]
  },
  {
   "cell_type": "code",
   "execution_count": null,
   "metadata": {},
   "outputs": [],
   "source": []
  }
 ],
 "metadata": {
  "kernelspec": {
   "display_name": "datascience",
   "language": "python",
   "name": "datascience"
  },
  "language_info": {
   "codemirror_mode": {
    "name": "ipython",
    "version": 3
   },
   "file_extension": ".py",
   "mimetype": "text/x-python",
   "name": "python",
   "nbconvert_exporter": "python",
   "pygments_lexer": "ipython3",
   "version": "3.9.1"
  }
 },
 "nbformat": 4,
 "nbformat_minor": 4
}
