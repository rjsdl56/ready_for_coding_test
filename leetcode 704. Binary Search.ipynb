{
 "cells": [
  {
   "cell_type": "code",
   "execution_count": null,
   "metadata": {},
   "outputs": [],
   "source": [
    "Given a sorted (in ascending order) integer array nums of n elements and a target value, write a function to search target in nums. If target exists, then return its index, otherwise return -1.\n",
    "\n",
    "\n",
    "Example 1:\n",
    "\n",
    "Input: nums = [-1,0,3,5,9,12], target = 9\n",
    "Output: 4\n",
    "Explanation: 9 exists in nums and its index is 4\n",
    "\n",
    "Example 2:\n",
    "\n",
    "Input: nums = [-1,0,3,5,9,12], target = 2\n",
    "Output: -1\n",
    "Explanation: 2 does not exist in nums so return -1"
   ]
  },
  {
   "cell_type": "code",
   "execution_count": 7,
   "metadata": {},
   "outputs": [
    {
     "data": {
      "text/plain": [
       "0"
      ]
     },
     "execution_count": 7,
     "metadata": {},
     "output_type": "execute_result"
    }
   ],
   "source": [
    "## 쉽게 생각하자, target이 리스트 안에 있으면 해당 인덱스를 반환, 없으면 -1을 반환\n",
    "\n",
    "def search(nums, target) :\n",
    "    \n",
    "    # 우선 target이 있는지 부터 확인\n",
    "    if target not in nums :\n",
    "        return -1\n",
    "\n",
    "    # 타겟이 있다면 인덱스를 출력\n",
    "    for x in enumerate(nums):\n",
    "        if x[1] == target :\n",
    "            answer = x[0]\n",
    "        \n",
    "    return answer\n",
    "\n",
    "nums = [5]\n",
    "target = 5\n",
    "\n",
    "search(nums, target)"
   ]
  },
  {
   "cell_type": "code",
   "execution_count": 8,
   "metadata": {},
   "outputs": [],
   "source": [
    "# 내가 푼 풀이 \n",
    "class Solution:\n",
    "    def search(self, nums: List[int], target: int) -> int:\n",
    "        if target not in nums :\n",
    "            return -1\n",
    "\n",
    "        for x in enumerate(nums):\n",
    "            if x[1] == target :\n",
    "                answer = x[0]\n",
    "\n",
    "        return answer"
   ]
  },
  {
   "cell_type": "code",
   "execution_count": null,
   "metadata": {},
   "outputs": [],
   "source": [
    "# 다른 사람 풀이\n",
    "class Solution:\n",
    "    def search(self, nums: List[int], target: int) -> int:\n",
    "        low=0\n",
    "        high=len(nums)-1\n",
    "\n",
    "\n",
    "        while low<=high:\n",
    "        mid=int((low+high)//2)\n",
    "        if nums[mid]==target:\n",
    "            return mid\n",
    "        if target>nums[mid]:\n",
    "            low=mid+1\n",
    "        if target<nums[mid]:\n",
    "            high=mid-1\n",
    "        return -1"
   ]
  }
 ],
 "metadata": {
  "kernelspec": {
   "display_name": "aiffel",
   "language": "python",
   "name": "aiffel"
  },
  "language_info": {
   "codemirror_mode": {
    "name": "ipython",
    "version": 3
   },
   "file_extension": ".py",
   "mimetype": "text/x-python",
   "name": "python",
   "nbconvert_exporter": "python",
   "pygments_lexer": "ipython3",
   "version": "3.7.9"
  }
 },
 "nbformat": 4,
 "nbformat_minor": 4
}
