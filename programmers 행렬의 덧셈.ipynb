{
 "cells": [
  {
   "cell_type": "code",
   "execution_count": null,
   "metadata": {},
   "outputs": [],
   "source": [
    "문제 설명\n",
    "행렬의 덧셈은 행과 열의 크기가 같은 두 행렬의 같은 행, 같은 열의 값을 서로 더한 결과가 됩니다. \n",
    "2개의 행렬 arr1과 arr2를 입력받아, 행렬 덧셈의 결과를 반환하는 함수, solution을 완성해주세요.\n",
    "\n",
    "제한 조건\n",
    "행렬 arr1, arr2의 행과 열의 길이는 500을 넘지 않습니다.\n",
    "입출력 예\n",
    "arr1\tarr2\treturn\n",
    "[[1,2],[2,3]]\t[[3,4],[5,6]]\t[[4,6],[7,9]]\n",
    "[[1],[2]]\t[[3],[4]]"
   ]
  },
  {
   "cell_type": "code",
   "execution_count": null,
   "metadata": {},
   "outputs": [],
   "source": [
    "# 정답\n",
    "\n",
    "def solution(arr1, arr2):\n",
    "    answer = [[c + d for c, d in zip(a, b)] for a, b in zip(arr1,arr2)]\n",
    "    return answer"
   ]
  },
  {
   "cell_type": "code",
   "execution_count": null,
   "metadata": {},
   "outputs": [],
   "source": [
    "# 다른 사람 코드\n",
    "import numpy as np\n",
    "def sumMatrix(A,B):\n",
    "    A=np.array(A)\n",
    "    B=np.array(B)\n",
    "    answer=A+B\n",
    "    return answer.tolist()"
   ]
  },
  {
   "cell_type": "code",
   "execution_count": 20,
   "metadata": {},
   "outputs": [
    {
     "data": {
      "text/plain": [
       "[[4, 6], [7, 9]]"
      ]
     },
     "execution_count": 20,
     "metadata": {},
     "output_type": "execute_result"
    }
   ],
   "source": [
    "# 원래 아이디어\n",
    "def solution(arr1, arr2):\n",
    "    answer_list = []\n",
    "    \n",
    "    # arr1의 원소 개수만큼 반복한다. / 행\n",
    "    for x in range(len(arr1)) :\n",
    "        new_arr1 = arr1[x][0] + arr2[x][0]\n",
    "        new_arr2 = arr1[x][1] + arr2[x][1]\n",
    "        answer_list.append([new_arr1,new_arr2])\n",
    "        \n",
    "    return answer_list\n",
    "\n",
    "\n",
    "# test\n",
    "arr1 = [[1,2],[2,3]]\n",
    "arr2 = [[3,4],[5,6]]\n",
    "solution(arr1, arr2)"
   ]
  },
  {
   "cell_type": "code",
   "execution_count": 31,
   "metadata": {},
   "outputs": [
    {
     "name": "stdout",
     "output_type": "stream",
     "text": [
      "[1, 2, 3, 4, 5, 6]\n",
      "[1, 2, 3, 4, 5, 6]\n"
     ]
    }
   ],
   "source": [
    "# 리스트 풀어서 원소를 하나의 리스트로 넣기 ==> 코드 공부\n",
    "\n",
    "my_list = [[1, 2], [3, 4], [5, 6]]\n",
    "answer = []\n",
    "for element in my_list:\n",
    "    answer += element\n",
    "    \n",
    "print(answer)\n",
    "print(sum(my_list, []))"
   ]
  },
  {
   "cell_type": "code",
   "execution_count": 41,
   "metadata": {},
   "outputs": [
    {
     "ename": "IndentationError",
     "evalue": "expected an indented block (<ipython-input-41-193ccbac0891>, line 5)",
     "output_type": "error",
     "traceback": [
      "\u001b[0;36m  File \u001b[0;32m\"<ipython-input-41-193ccbac0891>\"\u001b[0;36m, line \u001b[0;32m5\u001b[0m\n\u001b[0;31m    answer.append([c+d])\u001b[0m\n\u001b[0m         ^\u001b[0m\n\u001b[0;31mIndentationError\u001b[0m\u001b[0;31m:\u001b[0m expected an indented block\n"
     ]
    }
   ],
   "source": [
    "# 시도\n",
    "def solution(arr1, arr2) :\n",
    "    answer= []\n",
    "    for a,b in zip(arr1, arr2) :\n",
    "        for c,d in zip(a,b) :\n",
    "            answer.append([c+d])\n",
    "            \n",
    "    return answer"
   ]
  },
  {
   "cell_type": "code",
   "execution_count": 42,
   "metadata": {},
   "outputs": [
    {
     "data": {
      "text/plain": [
       "[[4], [6], [7], [9]]"
      ]
     },
     "execution_count": 42,
     "metadata": {},
     "output_type": "execute_result"
    }
   ],
   "source": [
    "arr1 = [[1,2],[2,3]]\n",
    "arr2 = [[3,4],[5,6]]\n",
    "\n",
    "solution(arr1, arr2) # [[4,6],[7,9]]"
   ]
  },
  {
   "cell_type": "code",
   "execution_count": 40,
   "metadata": {},
   "outputs": [
    {
     "data": {
      "text/plain": [
       "[[4], [6]]"
      ]
     },
     "execution_count": 40,
     "metadata": {},
     "output_type": "execute_result"
    }
   ],
   "source": [
    "arr1 = [[1],[2]]\n",
    "arr2 = [[3],[4]]\n",
    "\n",
    "solution(arr1, arr2) # [[4],[6]]"
   ]
  },
  {
   "cell_type": "code",
   "execution_count": null,
   "metadata": {},
   "outputs": [],
   "source": [
    "# 숫자 하나씩 리턴하기\n",
    "def solution(arr1, arr2):\n",
    "    answer_list = []\n",
    "    \n",
    "    # arr1의 원소 개수만큼 반복한다. / 행\n",
    "    for x in range(len(arr1)) :\n",
    "        \n",
    "        # arr1의 한 원소 내부의 원소 개수만큼 반복한다. / 열\n",
    "        for y in range(len(arr1[x])):\n",
    "            new_arr1 = arr1[x][y] + arr2[x][y]\n",
    "            answer_list.append([new_arr1])\n",
    "        \n",
    "    return answer_list"
   ]
  },
  {
   "cell_type": "code",
   "execution_count": 21,
   "metadata": {},
   "outputs": [
    {
     "data": {
      "text/plain": [
       "[1, 2, 3, 4, 5, 6]"
      ]
     },
     "execution_count": 21,
     "metadata": {},
     "output_type": "execute_result"
    }
   ],
   "source": [
    "my_list = [[1, 2], [3, 4], [5, 6]]\n",
    "answer = []\n",
    "for element in my_list:\n",
    "    answer += element\n",
    "    \n",
    "answer    \n"
   ]
  },
  {
   "cell_type": "code",
   "execution_count": null,
   "metadata": {},
   "outputs": [],
   "source": []
  }
 ],
 "metadata": {
  "kernelspec": {
   "display_name": "aiffel",
   "language": "python",
   "name": "aiffel"
  },
  "language_info": {
   "codemirror_mode": {
    "name": "ipython",
    "version": 3
   },
   "file_extension": ".py",
   "mimetype": "text/x-python",
   "name": "python",
   "nbconvert_exporter": "python",
   "pygments_lexer": "ipython3",
   "version": "3.7.9"
  }
 },
 "nbformat": 4,
 "nbformat_minor": 4
}
