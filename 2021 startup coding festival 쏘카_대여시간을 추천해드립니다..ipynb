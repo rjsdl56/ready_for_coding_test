{
 "cells": [
  {
   "cell_type": "code",
   "execution_count": null,
   "metadata": {},
   "outputs": [],
   "source": [
    "자가용을 이용하려는 인원 수 / 쏘카 존에 도착할 수 있는 시간 구간 입력\n",
    "\n",
    "모든 인원이 쏘카 존에 들어오는 시간을 알아낸 뒤, 그 시간에 빌릴 자가용 추천\n",
    "\n"
   ]
  },
  {
   "cell_type": "code",
   "execution_count": 3,
   "metadata": {},
   "outputs": [
    {
     "name": "stdout",
     "output_type": "stream",
     "text": [
      "총 인원을 입력해주세요 :3\n",
      "사용 가능한 시간을 입력해주세요 :12:00 ~ 23:59\n",
      "사용 가능한 시간을 입력해주세요 :11:00 ~ 18:00\n",
      "사용 가능한 시간을 입력해주세요 :14:00 ~ 20:00\n",
      "['12:00 ~ 23:59', '11:00 ~ 18:00', '14:00 ~ 20:00']\n"
     ]
    }
   ],
   "source": [
    "\n"
   ]
  },
  {
   "cell_type": "code",
   "execution_count": null,
   "metadata": {},
   "outputs": [],
   "source": [
    "# 합치는 셋 == 정답 확인!!!! \n",
    "\n",
    "import re\n",
    "# 사람 몇 명인지 확인\n",
    "people_num = int(input())\n",
    "\n",
    "# 사람 수에 따라 인풋으로 데이터 받아오기\n",
    "time_list = []\n",
    "for x in range(people_num) :\n",
    "    time_list.append(input())\n",
    "    \n",
    "# 시간대 전처리\n",
    "start_time_list = []\n",
    "end_time_list = []\n",
    "\n",
    "start_max_check = 0\n",
    "end_min_check = 2359\n",
    "\n",
    "for x in time_list :\n",
    "    x = re.sub(\"[:~ ]\", \"\", x)\n",
    "\n",
    "    # 타임 체크\n",
    "    if start_max_check <= int(x[:4]):\n",
    "        start_max_check = int(x[:4])\n",
    "    if end_min_check > int(x[4:]) :\n",
    "        end_min_check = int(x[4:])\n",
    "\n",
    "    # 리스트 만들기\n",
    "    start_time_list.append(x[:4])\n",
    "    end_time_list.append(x[4:])\n",
    "\n",
    "#     print(\"출발 시간 리스트 :\", start_time_list)\n",
    "#     print(\"도착 시간 리스트 :\",end_time_list)\n",
    "\n",
    "\n",
    "# 가능한 시간 확인\n",
    "start_max = max(start_time_list)\n",
    "end_min = min(end_time_list)\n",
    "\n",
    "if start_max_check < end_min_check :\n",
    "    print(start_max[:2] + \":\" + start_max[2:] + \" ~ \" + end_min[:2] + \":\" + end_min[2:])\n",
    "else :\n",
    "    print(-1)"
   ]
  },
  {
   "cell_type": "code",
   "execution_count": 58,
   "metadata": {},
   "outputs": [],
   "source": [
    "import re\n",
    "def check_func(time_list):\n",
    "    start_time_list = []\n",
    "    end_time_list = []\n",
    "    \n",
    "    start_max_check = 0\n",
    "    end_min_check = 2359\n",
    "    \n",
    "    for x in time_list :\n",
    "        x = re.sub(\"[:~ ]\", \"\", x)\n",
    "        \n",
    "        # 타임 체크\n",
    "        if start_max_check <= int(x[:4]):\n",
    "            start_max_check = int(x[:4])\n",
    "        if end_min_check > int(x[4:]) :\n",
    "            end_min_check = int(x[4:])\n",
    "        \n",
    "        # 리스트 만들기\n",
    "        start_time_list.append(x[:4])\n",
    "        end_time_list.append(x[4:])\n",
    "\n",
    "#     print(\"출발 시간 리스트 :\", start_time_list)\n",
    "#     print(\"도착 시간 리스트 :\",end_time_list)\n",
    "\n",
    "\n",
    "    # 가능한 시간 확인\n",
    "    start_max = max(start_time_list)\n",
    "    end_min = min(end_time_list)\n",
    "\n",
    "    if start_max_check < end_min_check :\n",
    "        print(start_max[:2] + \":\" + start_max[2:] + \" ~ \" + end_min[:2] + \":\" + end_min[2:])\n",
    "    else :\n",
    "        print(-1)\n",
    "\n"
   ]
  },
  {
   "cell_type": "code",
   "execution_count": null,
   "metadata": {},
   "outputs": [],
   "source": []
  },
  {
   "cell_type": "code",
   "execution_count": 59,
   "metadata": {},
   "outputs": [
    {
     "name": "stdout",
     "output_type": "stream",
     "text": [
      "0002\n",
      "2359\n",
      "00:02 ~ 23:59\n"
     ]
    }
   ],
   "source": [
    "time_list = ['00:02 ~ 23:59', '00:01 ~ 23:59', '00:00 ~ 23:59']\n",
    "check_func(time_list)"
   ]
  },
  {
   "cell_type": "code",
   "execution_count": 57,
   "metadata": {},
   "outputs": [
    {
     "name": "stdout",
     "output_type": "stream",
     "text": [
      "0200\n",
      "1800\n"
     ]
    },
    {
     "ename": "NameError",
     "evalue": "name 'start_str' is not defined",
     "output_type": "error",
     "traceback": [
      "\u001b[0;31m---------------------------------------------------------------------------\u001b[0m",
      "\u001b[0;31mNameError\u001b[0m                                 Traceback (most recent call last)",
      "\u001b[0;32m<ipython-input-57-fccca8f926f1>\u001b[0m in \u001b[0;36m<module>\u001b[0;34m\u001b[0m\n\u001b[1;32m      1\u001b[0m \u001b[0mtime_list\u001b[0m \u001b[0;34m=\u001b[0m \u001b[0;34m[\u001b[0m\u001b[0;34m'00:00 ~ 23:59'\u001b[0m\u001b[0;34m,\u001b[0m \u001b[0;34m'01:00 ~ 18:00'\u001b[0m\u001b[0;34m,\u001b[0m \u001b[0;34m'02:00 ~ 20:00'\u001b[0m\u001b[0;34m]\u001b[0m\u001b[0;34m\u001b[0m\u001b[0;34m\u001b[0m\u001b[0m\n\u001b[0;32m----> 2\u001b[0;31m \u001b[0mcheck_func\u001b[0m\u001b[0;34m(\u001b[0m\u001b[0mtime_list\u001b[0m\u001b[0;34m)\u001b[0m\u001b[0;34m\u001b[0m\u001b[0;34m\u001b[0m\u001b[0m\n\u001b[0m",
      "\u001b[0;32m<ipython-input-55-8c2ea47cc5de>\u001b[0m in \u001b[0;36mcheck_func\u001b[0;34m(time_list)\u001b[0m\n\u001b[1;32m     32\u001b[0m \u001b[0;34m\u001b[0m\u001b[0m\n\u001b[1;32m     33\u001b[0m     \u001b[0;32mif\u001b[0m \u001b[0mstart_max_check\u001b[0m \u001b[0;34m<\u001b[0m \u001b[0mend_min_check\u001b[0m \u001b[0;34m:\u001b[0m\u001b[0;34m\u001b[0m\u001b[0;34m\u001b[0m\u001b[0m\n\u001b[0;32m---> 34\u001b[0;31m         \u001b[0mprint\u001b[0m\u001b[0;34m(\u001b[0m\u001b[0mstart_str\u001b[0m\u001b[0;34m[\u001b[0m\u001b[0;34m:\u001b[0m\u001b[0;36m2\u001b[0m\u001b[0;34m]\u001b[0m \u001b[0;34m+\u001b[0m \u001b[0;34m\":\"\u001b[0m \u001b[0;34m+\u001b[0m \u001b[0mstart_str\u001b[0m\u001b[0;34m[\u001b[0m\u001b[0;36m2\u001b[0m\u001b[0;34m:\u001b[0m\u001b[0;34m]\u001b[0m \u001b[0;34m+\u001b[0m \u001b[0;34m\" ~ \"\u001b[0m \u001b[0;34m+\u001b[0m \u001b[0mend_str\u001b[0m\u001b[0;34m[\u001b[0m\u001b[0;34m:\u001b[0m\u001b[0;36m2\u001b[0m\u001b[0;34m]\u001b[0m \u001b[0;34m+\u001b[0m \u001b[0;34m\":\"\u001b[0m \u001b[0;34m+\u001b[0m \u001b[0mend_str\u001b[0m\u001b[0;34m[\u001b[0m\u001b[0;36m2\u001b[0m\u001b[0;34m:\u001b[0m\u001b[0;34m]\u001b[0m\u001b[0;34m)\u001b[0m\u001b[0;34m\u001b[0m\u001b[0;34m\u001b[0m\u001b[0m\n\u001b[0m\u001b[1;32m     35\u001b[0m     \u001b[0;32melse\u001b[0m \u001b[0;34m:\u001b[0m\u001b[0;34m\u001b[0m\u001b[0;34m\u001b[0m\u001b[0m\n\u001b[1;32m     36\u001b[0m         \u001b[0mprint\u001b[0m\u001b[0;34m(\u001b[0m\u001b[0;34m-\u001b[0m\u001b[0;36m1\u001b[0m\u001b[0;34m)\u001b[0m\u001b[0;34m\u001b[0m\u001b[0;34m\u001b[0m\u001b[0m\n",
      "\u001b[0;31mNameError\u001b[0m: name 'start_str' is not defined"
     ]
    }
   ],
   "source": [
    "time_list = ['00:00 ~ 23:59', '01:00 ~ 18:00', '02:00 ~ 20:00']\n",
    "check_func(time_list)"
   ]
  },
  {
   "cell_type": "code",
   "execution_count": 41,
   "metadata": {},
   "outputs": [
    {
     "ename": "NameError",
     "evalue": "name 'start_time_list' is not defined",
     "output_type": "error",
     "traceback": [
      "\u001b[0;31m---------------------------------------------------------------------------\u001b[0m",
      "\u001b[0;31mNameError\u001b[0m                                 Traceback (most recent call last)",
      "\u001b[0;32m<ipython-input-41-e1bb46cec0de>\u001b[0m in \u001b[0;36m<module>\u001b[0;34m\u001b[0m\n\u001b[1;32m      1\u001b[0m \u001b[0mtime_list\u001b[0m \u001b[0;34m=\u001b[0m \u001b[0;34m[\u001b[0m\u001b[0;34m'12:00 ~ 23:59'\u001b[0m\u001b[0;34m,\u001b[0m \u001b[0;34m'11:00 ~ 18:00'\u001b[0m\u001b[0;34m,\u001b[0m \u001b[0;34m'09:00 ~ 12:00'\u001b[0m\u001b[0;34m]\u001b[0m\u001b[0;34m\u001b[0m\u001b[0;34m\u001b[0m\u001b[0m\n\u001b[0;32m----> 2\u001b[0;31m \u001b[0mstart_max\u001b[0m \u001b[0;34m=\u001b[0m \u001b[0mmax\u001b[0m\u001b[0;34m(\u001b[0m\u001b[0mstart_time_list\u001b[0m\u001b[0;34m)\u001b[0m\u001b[0;34m\u001b[0m\u001b[0;34m\u001b[0m\u001b[0m\n\u001b[0m\u001b[1;32m      3\u001b[0m \u001b[0mend_min\u001b[0m \u001b[0;34m=\u001b[0m \u001b[0mmin\u001b[0m\u001b[0;34m(\u001b[0m\u001b[0mend_time_list\u001b[0m\u001b[0;34m)\u001b[0m\u001b[0;34m\u001b[0m\u001b[0;34m\u001b[0m\u001b[0m\n\u001b[1;32m      4\u001b[0m \u001b[0;34m\u001b[0m\u001b[0m\n\u001b[1;32m      5\u001b[0m \u001b[0mprint\u001b[0m\u001b[0;34m(\u001b[0m\u001b[0mstart_max\u001b[0m\u001b[0;34m)\u001b[0m\u001b[0;34m\u001b[0m\u001b[0;34m\u001b[0m\u001b[0m\n",
      "\u001b[0;31mNameError\u001b[0m: name 'start_time_list' is not defined"
     ]
    }
   ],
   "source": [
    "time_list = ['12:00 ~ 23:59', '11:00 ~ 18:00', '09:00 ~ 12:00']\n",
    "start_max = max(start_time_list)\n",
    "end_min = min(end_time_list)\n",
    "\n",
    "print(start_max)\n",
    "print(end_min)"
   ]
  },
  {
   "cell_type": "code",
   "execution_count": 7,
   "metadata": {},
   "outputs": [
    {
     "ename": "SyntaxError",
     "evalue": "invalid syntax (<ipython-input-7-153ce116fde9>, line 3)",
     "output_type": "error",
     "traceback": [
      "\u001b[0;36m  File \u001b[0;32m\"<ipython-input-7-153ce116fde9>\"\u001b[0;36m, line \u001b[0;32m3\u001b[0m\n\u001b[0;31m    12:00 ~ 23:59\u001b[0m\n\u001b[0m          ^\u001b[0m\n\u001b[0;31mSyntaxError\u001b[0m\u001b[0;31m:\u001b[0m invalid syntax\n"
     ]
    }
   ],
   "source": [
    "# input 예시\n",
    "3\n",
    "12:00 ~ 23:59\n",
    "11:00 ~ 18:00\n",
    "14:00 ~ 20:00\n",
    "        \n",
    "        \n",
    "# output 예시 \n",
    "14:00 ~ 18:00\n",
    "        \n",
    "time_list = ['12:00 ~ 23:59', '11:00 ~ 18:00', '14:00 ~ 20:00']\n",
    "\n",
    "start_time_list = [1200, 1100, 1400]\n",
    "end_time_list = [2359, 1800, 2000]\n",
    "\n",
    "# 가능한 시간 확인\n",
    "start_max = max(start_time_list)\n",
    "end_min = min(end_time_list)\n",
    "\n",
    "if start_max < end_min :\n",
    "    start_str = str(start_max)\n",
    "    end_str = str(end_min)\n",
    "    print(start_str[:2] + \":\" + start_str[2:] + \" ~ \" + end_str[:2] + \":\" + end_str[2:])\n",
    "else :\n",
    "    print(-1)"
   ]
  },
  {
   "cell_type": "code",
   "execution_count": null,
   "metadata": {},
   "outputs": [],
   "source": [
    "# 1번문제 - 오답 ==> 0시에 0: 형태로 출력\n",
    "\n",
    "# 사람 몇 명인지 확인\n",
    "people_num = int(input(\"총 인원을 입력해주세요 :\"))\n",
    "\n",
    "# 사람 수에 따라 인풋으로 데이터 받아오기\n",
    "time_list = []\n",
    "for x in range(people_num) :\n",
    "    time_list.append(input(\"사용 가능한 시간을 입력해주세요 :\"))\n",
    "    \n",
    "# 시간대 전처리\n",
    "import re\n",
    "start_time_list = []\n",
    "end_time_list = []\n",
    "for x in time_list :\n",
    "    x = re.sub(\"[:~ ]\", \"\", x)\n",
    "    start_time_list.append(int(x[:4]))\n",
    "    end_time_list.append(int(x[4:]))\n",
    "\n",
    "# 가능한 시간 확인\n",
    "start_max = max(start_time_list)\n",
    "end_min = min(end_time_list)\n",
    "\n",
    "if start_max < end_min :\n",
    "    start_str = str(start_max)\n",
    "    end_str = str(end_min)\n",
    "    print(start_str[:2] + \":\" + start_str[2:] + \" ~ \" + end_str[:2] + \":\" + end_str[2:])\n",
    "else :\n",
    "    print(-1)"
   ]
  },
  {
   "cell_type": "code",
   "execution_count": null,
   "metadata": {},
   "outputs": [],
   "source": []
  },
  {
   "cell_type": "code",
   "execution_count": null,
   "metadata": {},
   "outputs": [],
   "source": []
  }
 ],
 "metadata": {
  "kernelspec": {
   "display_name": "aiffel",
   "language": "python",
   "name": "aiffel"
  },
  "language_info": {
   "codemirror_mode": {
    "name": "ipython",
    "version": 3
   },
   "file_extension": ".py",
   "mimetype": "text/x-python",
   "name": "python",
   "nbconvert_exporter": "python",
   "pygments_lexer": "ipython3",
   "version": "3.7.9"
  }
 },
 "nbformat": 4,
 "nbformat_minor": 4
}
