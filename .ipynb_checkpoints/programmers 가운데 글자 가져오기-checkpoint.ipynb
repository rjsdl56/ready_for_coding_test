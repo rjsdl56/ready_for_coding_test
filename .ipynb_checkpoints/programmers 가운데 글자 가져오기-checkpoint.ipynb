{
 "cells": [
  {
   "cell_type": "markdown",
   "metadata": {},
   "source": [
    "문제 설명         \n",
    "단어 s의 가운데 글자를 반환하는 함수, solution을 만들어 보세요. 단어의 길이가 짝수라면 가운데 두글자를 반환하면 됩니다.         \n",
    "\n",
    "재한사항      \n",
    "s는 길이가 1 이상, 100이하인 스트링입니다.       \n",
    "입출력 예       \n",
    "s\t            return         \n",
    "abcde\t         c         \n",
    "qwer             we         "
   ]
  },
  {
   "cell_type": "code",
   "execution_count": 3,
   "metadata": {},
   "outputs": [
    {
     "data": {
      "text/plain": [
       "'we'"
      ]
     },
     "execution_count": 3,
     "metadata": {},
     "output_type": "execute_result"
    }
   ],
   "source": [
    "def solution(s):\n",
    "    answer = ''\n",
    "    \n",
    "    if len(s) % 2 == 1:\n",
    "        a = int(len(s)/2) + 1\n",
    "        answer = s[a-1]\n",
    "        \n",
    "    else :\n",
    "        a = int(len(s)/2)\n",
    "        answer = s[a-1:a+1]\n",
    "    \n",
    "    return answer\n",
    "\n",
    "\n",
    "\n",
    "s = \"abcde\" # c\n",
    "w = 'qwer' # we\n",
    "\n",
    "\n",
    "solution(w)"
   ]
  },
  {
   "cell_type": "code",
   "execution_count": 4,
   "metadata": {},
   "outputs": [
    {
     "name": "stdout",
     "output_type": "stream",
     "text": [
      "w\n"
     ]
    }
   ],
   "source": [
    "def string_middle(str):\n",
    "    # 함수를 완성하세요\n",
    "\n",
    "    return str[(len(str)-1)//2:len(str)//2+1]\n",
    "\n",
    "# 아래는 테스트로 출력해 보기 위한 코드입니다.\n",
    "print(string_middle(\"power\"))"
   ]
  },
  {
   "cell_type": "code",
   "execution_count": null,
   "metadata": {},
   "outputs": [],
   "source": []
  }
 ],
 "metadata": {
  "kernelspec": {
   "display_name": "aiffel",
   "language": "python",
   "name": "aiffel"
  },
  "language_info": {
   "codemirror_mode": {
    "name": "ipython",
    "version": 3
   },
   "file_extension": ".py",
   "mimetype": "text/x-python",
   "name": "python",
   "nbconvert_exporter": "python",
   "pygments_lexer": "ipython3",
   "version": "3.7.9"
  }
 },
 "nbformat": 4,
 "nbformat_minor": 4
}
