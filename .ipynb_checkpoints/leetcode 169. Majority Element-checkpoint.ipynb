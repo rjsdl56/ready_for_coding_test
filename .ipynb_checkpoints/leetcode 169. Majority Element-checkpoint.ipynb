{
 "cells": [
  {
   "cell_type": "markdown",
   "metadata": {},
   "source": [
    "## 문제\n",
    "Given an array nums of size n, return the majority element.\n",
    "\n",
    "The majority element is the element that appears more than ⌊n / 2⌋ times. You may assume that the majority element always exists in the array.\n",
    "\n",
    " \n",
    "\n",
    "Example 1:     \n",
    "\n",
    "Input: nums = [3,2,3]       \n",
    "Output: 3     \n",
    "\n",
    "Example 2:       \n",
    "\n",
    "Input: nums = [2,2,1,1,1,2,2]       \n",
    "Output: 2     "
   ]
  },
  {
   "cell_type": "code",
   "execution_count": 1,
   "metadata": {},
   "outputs": [
    {
     "name": "stdout",
     "output_type": "stream",
     "text": [
      "[(5, 8), (2, 4), (1, 3)]\n"
     ]
    },
    {
     "data": {
      "text/plain": [
       "5"
      ]
     },
     "execution_count": 1,
     "metadata": {},
     "output_type": "execute_result"
    }
   ],
   "source": [
    "## 쉽게 이해하자!!\n",
    "## 문제 -> 리스트가 주어졌을 때, 리스트 원소 중 중복이 가장 많은 원소를 리턴하라!\n",
    "\n",
    "## 참고 출처: https://korbillgates.tistory.com/171 [생물정보학자의 블로그]\n",
    "\n",
    "from collections import Counter \n",
    "\n",
    "def majorityElement(nums):\n",
    "    cnt_dict = Counter(nums)\n",
    "    items = cnt_dict.items() # dict_items([(2, 4), (1, 3)]) --> 2가 4개, 1이 3개\n",
    "    \n",
    "    new_items = sorted(items, key=lambda x: x[1], reverse=True)\n",
    "    print(new_items)\n",
    "    \n",
    "    return new_items[0][0]\n",
    "    \n",
    "    \n",
    "nums = [2,2,1,1,1,2,2,5,5,5,5,5,5,5,5]\n",
    "majorityElement(nums)"
   ]
  },
  {
   "cell_type": "code",
   "execution_count": null,
   "metadata": {},
   "outputs": [],
   "source": []
  }
 ],
 "metadata": {
  "kernelspec": {
   "display_name": "aiffel",
   "language": "python",
   "name": "aiffel"
  },
  "language_info": {
   "codemirror_mode": {
    "name": "ipython",
    "version": 3
   },
   "file_extension": ".py",
   "mimetype": "text/x-python",
   "name": "python",
   "nbconvert_exporter": "python",
   "pygments_lexer": "ipython3",
   "version": "3.7.9"
  }
 },
 "nbformat": 4,
 "nbformat_minor": 4
}
