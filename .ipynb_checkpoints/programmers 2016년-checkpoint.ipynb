{
 "cells": [
  {
   "cell_type": "markdown",
   "metadata": {},
   "source": [
    "# 문제 설명\n",
    "2016년 1월 1일은 금요일입니다. 2016년 a월 b일은 무슨 요일일까요? 두 수 a ,b를 입력받아 2016년 a월 b일이 무슨 요일인지 리턴하는 함수, solution을 완성하세요. 요일의 이름은 일요일부터 토요일까지 각각 SUN,MON,TUE,WED,THU,FRI,SAT입니다.    \n",
    "예를 들어 a=5, b=24라면 5월 24일은 화요일이므로 문자열 TUE를 반환하세요.\n",
    "\n",
    "제한 조건     \n",
    "2016년은 윤년입니다.        \n",
    "2016년 a월 b일은 실제로 있는 날입니다. (13월 26일이나 2월 45일같은 날짜는 주어지지 않습니다)          \n",
    "\n",
    "\n",
    "입출력 예            \n",
    "a\tb\t == 5\t24\t    \n",
    "\n",
    "result      \n",
    "\"TUE\"    "
   ]
  },
  {
   "cell_type": "code",
   "execution_count": 13,
   "metadata": {},
   "outputs": [
    {
     "data": {
      "text/plain": [
       "'TUE'"
      ]
     },
     "execution_count": 13,
     "metadata": {},
     "output_type": "execute_result"
    }
   ],
   "source": [
    "import datetime\n",
    "\n",
    "def solution(a, b):\n",
    "    \n",
    "    date = datetime.datetime(2016,a,b)\n",
    "    \n",
    "    z = date.strftime('%w')\n",
    "    \n",
    "    days = {0:'SUN',1:'MON',2:'TUE',3:'WED',4:'THU',5:'FRI',6:'SAT'}\n",
    "    \n",
    "    return(days[int(z)])\n",
    "            \n",
    "    \n",
    "    \n",
    "#     answer = ''\n",
    "    \n",
    "    \n",
    "#     return answer\n",
    "\n",
    "\n",
    "solution(5,24)"
   ]
  },
  {
   "cell_type": "code",
   "execution_count": null,
   "metadata": {},
   "outputs": [],
   "source": [
    " # 너무 더러웠던 시도\n",
    "    \n",
    "    \n",
    "def solution(a, b):\n",
    "    \n",
    "\n",
    "    month = [1,2,3,4,5,6,7,8,9,10,11,12]\n",
    "    day = [31,29,31,30,31,30,31,31,30,31,30,31]\n",
    "    \n",
    "    for x in day:\n",
    "        date = range(1,x+1)\n",
    "        \n",
    "        year = []\n",
    "        for y in month:\n",
    "            for z in date :\n",
    "                year.append(str(y)+\"-\"+str(z))\n",
    "                \n",
    "    # 딕셔너리를 만들면 될 것 같다.      \n",
    "        \n",
    "    new_dict = {}\n",
    "\n",
    "    \n",
    "    \n",
    "#     answer = ''\n",
    "    \n",
    "    \n",
    "#     return answer\n",
    "\n",
    "\n",
    "solution(5,24)"
   ]
  },
  {
   "cell_type": "code",
   "execution_count": 14,
   "metadata": {},
   "outputs": [
    {
     "name": "stdout",
     "output_type": "stream",
     "text": [
      "TUE\n"
     ]
    }
   ],
   "source": [
    "def getDayName(a,b):\n",
    "    answer = \"\"\n",
    "    if a>=2:\n",
    "        b+=31\n",
    "        if a>=3:\n",
    "            b+=29#2월\n",
    "            if a>=4:\n",
    "                b+=31#3월\n",
    "                if a>=5:\n",
    "                    b+=30#4월\n",
    "                    if a>=6:\n",
    "                        b+=31#5월\n",
    "                        if a>=7:\n",
    "                            b+=30#6월\n",
    "                            if a>=8:\n",
    "                                b+=31#7월\n",
    "                                if a>=9:\n",
    "                                    b+=31#8월\n",
    "                                    if a>=10:\n",
    "                                        b+=30#9월\n",
    "                                        if a>=11:\n",
    "                                            b+=31#10월\n",
    "                                            if a==12:\n",
    "                                                b+=30#11월\n",
    "    b=b%7\n",
    "\n",
    "    if b==1:answer=\"FRI\"\n",
    "    elif b==2:answer=\"SAT\" \n",
    "    elif b==3:answer=\"SUN\"\n",
    "    elif b==4:answer=\"MON\"\n",
    "    elif b==5:answer=\"TUE\"\n",
    "    elif b==6:answer=\"WED\"\n",
    "    else:answer=\"THU\"\n",
    "    return answer\n",
    "\n",
    "\n",
    "print(getDayName(5,24))"
   ]
  },
  {
   "cell_type": "code",
   "execution_count": null,
   "metadata": {},
   "outputs": [],
   "source": []
  }
 ],
 "metadata": {
  "kernelspec": {
   "display_name": "aiffel",
   "language": "python",
   "name": "aiffel"
  },
  "language_info": {
   "codemirror_mode": {
    "name": "ipython",
    "version": 3
   },
   "file_extension": ".py",
   "mimetype": "text/x-python",
   "name": "python",
   "nbconvert_exporter": "python",
   "pygments_lexer": "ipython3",
   "version": "3.7.9"
  }
 },
 "nbformat": 4,
 "nbformat_minor": 4
}
