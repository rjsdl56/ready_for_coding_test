{
 "cells": [
  {
   "cell_type": "markdown",
   "metadata": {},
   "source": [
    "문제 설명           \n",
    "array의 각 element 중 divisor로 나누어 떨어지는 값을 오름차순으로 정렬한 배열을 반환하는 함수, solution을 작성해주세요.         \n",
    "divisor로 나누어 떨어지는 element가 하나도 없다면 배열에 -1을 담아 반환하세요.        \n",
    "\n",
    "제한사항       \n",
    "arr은 자연수를 담은 배열입니다.        \n",
    "정수 i, j에 대해 i ≠ j 이면 arr[i] ≠ arr[j] 입니다.     \n",
    "divisor는 자연수입니다.        \n",
    "array는 길이 1 이상인 배열입니다.     \n",
    "\n",
    "\n",
    "입출력 예        \n",
    "arr\tdivisor\treturn      \n",
    "[5, 9, 7, 10]\t5\t[5, 10]      \n",
    "[2, 36, 1, 3]\t1\t[1, 2, 3, 36]      \n",
    "[3,2,6]\t10\t[-1]    \n",
    "\n",
    "\n",
    "입출력 예 설명        \n",
    "입출력 예\n",
    "#1      \n",
    "arr의 원소 중 5로 나누어 떨어지는 원소는 5와 10입니다. 따라서 [5, 10]을 리턴합니다.      \n",
    "\n",
    "입출력 예         \n",
    "#2           \n",
    "arr의 모든 원소는 1으로 나누어 떨어집니다. 원소를 오름차순으로 정렬해 [1, 2, 3, 36]을 리턴합니다.        \n",
    "\n",
    "입출력 예         \n",
    "#3          \n",
    "3, 2, 6은 10으로 나누어 떨어지지 않습니다. 나누어 떨어지는 원소가 없으므로 [-1]을 리턴합니다.           "
   ]
  },
  {
   "cell_type": "code",
   "execution_count": 3,
   "metadata": {},
   "outputs": [
    {
     "data": {
      "text/plain": [
       "[5, 10]"
      ]
     },
     "execution_count": 3,
     "metadata": {},
     "output_type": "execute_result"
    }
   ],
   "source": [
    "def solution(arr, divisor):\n",
    "    answer = []\n",
    "    \n",
    "    for x in arr :\n",
    "        if x % divisor == 0 :\n",
    "            answer.append(x)\n",
    "            \n",
    "    if len(answer) == 0 :\n",
    "        return [-1]\n",
    "    \n",
    "    answer = sorted(answer)\n",
    "    \n",
    "    return answer\n",
    "\n",
    "arr = [5, 9, 7, 10]\n",
    "divisor = 5 \n",
    "\n",
    "solution(arr, divisor)"
   ]
  },
  {
   "cell_type": "code",
   "execution_count": null,
   "metadata": {},
   "outputs": [],
   "source": [
    "def solution(arr, divisor): return sorted([n for n in arr if n%divisor == 0]) or [-1]"
   ]
  }
 ],
 "metadata": {
  "kernelspec": {
   "display_name": "aiffel",
   "language": "python",
   "name": "aiffel"
  },
  "language_info": {
   "codemirror_mode": {
    "name": "ipython",
    "version": 3
   },
   "file_extension": ".py",
   "mimetype": "text/x-python",
   "name": "python",
   "nbconvert_exporter": "python",
   "pygments_lexer": "ipython3",
   "version": "3.7.9"
  }
 },
 "nbformat": 4,
 "nbformat_minor": 4
}
