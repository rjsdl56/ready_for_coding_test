{
 "cells": [
  {
   "cell_type": "markdown",
   "metadata": {},
   "source": [
    "## 문제 설명\n",
    "문자열로 구성된 리스트 strings와, 정수 n이 주어졌을 때, 각 문자열의 인덱스 n번째 글자를 기준으로 오름차순 정렬하려 합니다.        \n",
    "예를 들어 strings가 [sun, bed, car]이고 n이 1이면 각 단어의 인덱스 1의 문자 u, e, a로 strings를 정렬합니다.          \n",
    "  \n",
    "## 제한 조건    \n",
    "strings는 길이 1 이상, 50이하인 배열입니다.     \n",
    "strings의 원소는 소문자 알파벳으로 이루어져 있습니다.     \n",
    "strings의 원소는 길이 1 이상, 100이하인 문자열입니다.      \n",
    "모든 strings의 원소의 길이는 n보다 큽니다.        \n",
    "인덱스 1의 문자가 같은 문자열이 여럿 일 경우, 사전순으로 앞선 문자열이 앞쪽에 위치합니다.         \n",
    "\n",
    "\n",
    "## 입출력 예\n",
    "strings\tn\treturn\n",
    "[sun, bed, car]\t1\t[car, bed, sun]         \n",
    "[abce, abcd, cdx]\t2\t[abcd, abce, cdx]          \n",
    "\n",
    "\n",
    "## 입출력 예 설명\n",
    "입출력 예 1        \n",
    "sun, bed, car의 1번째 인덱스 값은 각각 u, e, a 입니다. 이를 기준으로 strings를 정렬하면 [car, bed, sun] 입니다.               \n",
    "\n",
    "입출력 예 2             \n",
    "abce와 abcd, cdx의 2번째 인덱스 값은 c, c, x입니다. 따라서 정렬 후에는 cdx가 가장 뒤에 위치합니다.          \n",
    "abce와 abcd는 사전순으로 정렬하면 abcd가 우선하므로, 답은 [abcd, abce, cdx] 입니다.           "
   ]
  },
  {
   "cell_type": "code",
   "execution_count": 11,
   "metadata": {},
   "outputs": [
    {
     "data": {
      "text/plain": [
       "['abcd', 'abce', 'cdx']"
      ]
     },
     "execution_count": 11,
     "metadata": {},
     "output_type": "execute_result"
    }
   ],
   "source": [
    "def solution(strings, n):\n",
    "    check_dict = {}\n",
    "    for x in strings :\n",
    "        check_dict[x] = x[1]\n",
    "       \n",
    "    check_dict = sorted(check_dict, key = lambda x : x[1])    \n",
    "    return check_dict\n",
    "    \n",
    "#     answer = []\n",
    "#     return answer\n",
    "\n",
    "\n",
    "strings = ['abcd', 'abce', 'cdx']\n",
    "n = 1\n",
    "\n",
    "# 답은 [car, bed, sun] / 2번째 인덱스만 보면 u(3), e(2), a(1) 이기 때문\n",
    "# 문제는 동일한 인덱스가 추출되었을 때는 두 원소를 sorted해서 사전순으로 빠른 것을 리턴해야 함\n",
    "# 생각보다 까다로움\n",
    "\n",
    "solution(strings, n)"
   ]
  },
  {
   "cell_type": "code",
   "execution_count": 2,
   "metadata": {},
   "outputs": [
    {
     "data": {
      "text/plain": [
       "'u'"
      ]
     },
     "execution_count": 2,
     "metadata": {},
     "output_type": "execute_result"
    }
   ],
   "source": [
    "# 동일 요소 고려하지 않았을 때 정답\n",
    "def solution(strings, n):\n",
    "    check_dict = {}\n",
    "    for x in strings :\n",
    "        check_dict[x] = x[1]\n",
    "       \n",
    "    check_dict = sorted(check_dict, key = lambda x : x[1])    \n",
    "    return check_dict"
   ]
  },
  {
   "cell_type": "code",
   "execution_count": 12,
   "metadata": {},
   "outputs": [
    {
     "name": "stdout",
     "output_type": "stream",
     "text": [
      "['abcd', 'abce', 'cdx']\n"
     ]
    }
   ],
   "source": []
  },
  {
   "cell_type": "code",
   "execution_count": null,
   "metadata": {},
   "outputs": [],
   "source": []
  }
 ],
 "metadata": {
  "kernelspec": {
   "display_name": "aiffel",
   "language": "python",
   "name": "aiffel"
  },
  "language_info": {
   "codemirror_mode": {
    "name": "ipython",
    "version": 3
   },
   "file_extension": ".py",
   "mimetype": "text/x-python",
   "name": "python",
   "nbconvert_exporter": "python",
   "pygments_lexer": "ipython3",
   "version": "3.7.9"
  }
 },
 "nbformat": 4,
 "nbformat_minor": 4
}
