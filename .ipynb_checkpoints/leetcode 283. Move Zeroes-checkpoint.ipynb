{
 "cells": [
  {
   "cell_type": "markdown",
   "metadata": {},
   "source": [
    "Given an array nums, write a function to move all 0's to the end of it while maintaining the relative order of the non-zero elements.\n",
    "\n",
    "Example:    \n",
    "\n",
    "Input: [0,1,0,3,12]        \n",
    "Output: [1,3,12,0,0]        \n",
    "Note:        \n",
    "\n",
    "You must do this in-place without making a copy of the array.        \n",
    "Minimize the total number of operations.  "
   ]
  },
  {
   "cell_type": "code",
   "execution_count": 3,
   "metadata": {},
   "outputs": [
    {
     "data": {
      "text/plain": [
       "[1, 3, 12, 0, 0]"
      ]
     },
     "execution_count": 3,
     "metadata": {},
     "output_type": "execute_result"
    }
   ],
   "source": [
    "## 쉽게 이해하자!!\n",
    "## 0을 제외한 모든 원소는 오름차순으로 정렬하고, 0은 맨 뒤에 붙인다!\n",
    "\n",
    "def moveZeroes(nums) :\n",
    "    \"\"\"\n",
    "    Do not return anything, modify nums in-place instead. / 리턴 쓰지 말랍니다~\n",
    "    \"\"\"\n",
    "    \n",
    "    # 기본 접근 \n",
    "    # 리스트 중에서 0이 발견되면 빼고 다른 리스트에 넣는다.\n",
    "    # 이후 남은 리스트를 sort 한 후 0만 모인 리스트를 더한다.\n",
    "    \n",
    "    zero_list = []\n",
    "    \n",
    "    for x in nums :\n",
    "        if x == 0 :\n",
    "            zero_list.append(x)\n",
    "            nums.remove(x)\n",
    "            \n",
    "    nums =  nums + zero_list\n",
    "    return nums\n",
    "    \n",
    "nums = [0,1,0,3,12]\n",
    "\n",
    "moveZeroes(nums)\n",
    "\n",
    "\n",
    "## nums 자체를 수정해야 한다?! leetcode에서는 먹히지 않음\n"
   ]
  },
  {
   "cell_type": "code",
   "execution_count": 5,
   "metadata": {},
   "outputs": [
    {
     "data": {
      "text/plain": [
       "[1, 3, 12, 0, 0]"
      ]
     },
     "execution_count": 5,
     "metadata": {},
     "output_type": "execute_result"
    }
   ],
   "source": [
    "## nums 인덱스를 수정하는 방향으로 갑시다.\n",
    "\n",
    "\n",
    "def moveZeroes(nums) :\n",
    "    \n",
    "        zero_list = []\n",
    "        \n",
    "        for x in nums :\n",
    "            if x == 0 :\n",
    "                nums.remove(x)\n",
    "                nums.append(0)\n",
    "        return nums\n",
    "    \n",
    "nums = [0,1,0,3,12]\n",
    "\n",
    "moveZeroes(nums)"
   ]
  },
  {
   "cell_type": "code",
   "execution_count": null,
   "metadata": {},
   "outputs": [],
   "source": []
  }
 ],
 "metadata": {
  "kernelspec": {
   "display_name": "aiffel",
   "language": "python",
   "name": "aiffel"
  },
  "language_info": {
   "codemirror_mode": {
    "name": "ipython",
    "version": 3
   },
   "file_extension": ".py",
   "mimetype": "text/x-python",
   "name": "python",
   "nbconvert_exporter": "python",
   "pygments_lexer": "ipython3",
   "version": "3.7.9"
  }
 },
 "nbformat": 4,
 "nbformat_minor": 4
}
