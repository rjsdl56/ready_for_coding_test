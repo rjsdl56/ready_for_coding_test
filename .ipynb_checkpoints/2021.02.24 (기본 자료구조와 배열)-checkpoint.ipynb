{
 "cells": [
  {
   "cell_type": "markdown",
   "metadata": {
    "slideshow": {
     "slide_type": "slide"
    }
   },
   "source": [
    "# 배열\n",
    "\n",
    "자료구조 : 논리적인 관계로 이루어진 데이터 구성\n",
    "\n",
    "배열 : 하나의 값을 저장하는 변수가 아니라 묶음 단위로 값을 저장하는 자료구조\n",
    "- 배열에는 객체가 저장\n",
    "- 저장된 각 객체는 원소\n",
    "- 각 원소는 인덱스를 부여받음\n",
    "- 배열 원소의 자료형 : int, float, str 등\n",
    "\n",
    "### 파이썬과 배열\n",
    "- 파이썬에서는 배열을 리스트와 튜플로 구현\n",
    "- 리스트 : 뮤터블 (원소 변경 가능)\n",
    "- 튜플 : 이뮤터블 (원소 변경 불가능)\n"
   ]
  },
  {
   "cell_type": "code",
   "execution_count": 2,
   "metadata": {
    "slideshow": {
     "slide_type": "slide"
    }
   },
   "outputs": [
    {
     "name": "stdout",
     "output_type": "stream",
     "text": [
      "학생 그룹 점수의 합계와 평균을 구합니다.\n",
      "1번 학생의 점수를 입력하세요 : 1\n",
      "2번 학생의 점수를 입력하세요 : 2\n",
      "합계는 3점입니다.\n"
     ]
    }
   ],
   "source": [
    "# 페이지 61\n",
    "\n",
    "print(\"학생 그룹 점수의 합계와 평균을 구합니다.\")\n",
    "\n",
    "\n",
    "score1 = int(input(\"1번 학생의 점수를 입력하세요 : \"))\n",
    "score2 = int(input(\"2번 학생의 점수를 입력하세요 : \"))\n",
    "\n",
    "total = 0\n",
    "total += score1\n",
    "total += score2\n",
    "\n",
    "print(f'합계는 {total}점입니다.')"
   ]
  },
  {
   "cell_type": "code",
   "execution_count": 6,
   "metadata": {
    "slideshow": {
     "slide_type": "slide"
    }
   },
   "outputs": [
    {
     "name": "stdout",
     "output_type": "stream",
     "text": [
      "['A', 'B', 'C']\n"
     ]
    }
   ],
   "source": [
    "# 페이지 63 ~ 64\n",
    "# 리스트에 대해 알아봅시다\n",
    "\n",
    "list01 = [] # 빈 리스트\n",
    "list02 = [1,2,3] # 1,2,3을 원소로 갖는 리스트\n",
    "list03 = ['A', 'B', 'C'] # 'A', 'B', 'C'를 원소로 갖는 리스트\n",
    "list04 = list() # 빈 리스트 == list01과 동일하다\n",
    "list05 = list('ABC') # 'A', 'B', 'C'를 원소로 갖는 리스트 == list03과 동일\n",
    "list06 = list([1,2,3]) # 리스트로 리스트 생성\n",
    "list07 = list((1,2,3)) # 튜플로 리스트 생성\n",
    "list08 = list({1,2,3}) # 딕셔너리로 리스트 생성\n",
    "list09 = list(range(7)) # 0부터 6까지의 원소를 지닌 리스트\n",
    "list10 = list(range(3,8)) # 3부터 7까지 리스트\n",
    "list11 = list(range(3,13,2)) # 3,5,7,9,11을 원소로 갖는 리스트\n",
    "list12 = [None] * 5 # None이 5개인 리스트\n",
    "\n",
    "print(list05)"
   ]
  },
  {
   "cell_type": "code",
   "execution_count": 7,
   "metadata": {
    "slideshow": {
     "slide_type": "slide"
    }
   },
   "outputs": [
    {
     "name": "stdout",
     "output_type": "stream",
     "text": [
      "('A', 'B', 'C')\n"
     ]
    }
   ],
   "source": [
    "# 페이지 64 ~ 65\n",
    "# 튜플에 대해 알아봅시다.\n",
    "\n",
    "tuple01 = () # 비어있는 튜플\n",
    "tuple02 = 1, # 원소 1을 갖는 튜플 // 쉼표가 없으면 튜플이 아니라 단순 변수로 인식\n",
    "tuple03 = (1,) # 원소 1을 갖는 튜플 // 쉼표가 없으면 튜플이 아니라 단순 변수로 인식\n",
    "tuple04 = 1,2,3 # 원소 1,2,3을 갖는 튜플\n",
    "tuple05 = 1,2,3, # 원소 1,2,3을 갖는 튜플\n",
    "tuple06 = (1,2,3) # 원소 1,2,3을 갖는 튜플\n",
    "tuple07 = (1,2,3, ) # 원소 1,2,3을 갖는 튜플\n",
    "tuple08 = 'A', 'B', 'C' # 원소 'A', 'B', 'C'를 갖는 튜플\n",
    "tuple09 = tuple()\n",
    "tuple10 = tuple('ABC') # 원소 'A', 'B', 'C'를 갖는 튜플\n",
    "tuple11 = tuple([1,2,3]) # 리스트를 튜플로 생성\n",
    "tuple12 = tuple({1,2,3}) # 딕셔너리를 튜플로 생성\n",
    "tuple13 = tuple(range(7)) # 0부터 6까지의 원소를 지닌 튜플\n",
    "tuple14 = tuple(range(3,8)) # 3부터 7까지의 튜플\n",
    "tuple15 = tuple(range(3,13,2)) # 3,5,7,9,11을 원소로 갖는 튜플\n",
    "\n",
    "\n",
    "print(tuple10)"
   ]
  },
  {
   "cell_type": "code",
   "execution_count": 9,
   "metadata": {
    "slideshow": {
     "slide_type": "slide"
    }
   },
   "outputs": [
    {
     "name": "stdout",
     "output_type": "stream",
     "text": [
      "1\n"
     ]
    },
    {
     "data": {
      "text/plain": [
       "(1, 2, 3)"
      ]
     },
     "execution_count": 9,
     "metadata": {},
     "output_type": "execute_result"
    }
   ],
   "source": [
    "# 페이지 66\n",
    "# 리스트와 튜플 풀어내기\n",
    "\n",
    "x = [1,2,3]\n",
    "\n",
    "a,b,c = x\n",
    "\n",
    "print(a) # a라는 변수에 들어간 원소는 1\n",
    "\n",
    "a,b,c # 튜플로 변환하여 출력"
   ]
  },
  {
   "cell_type": "code",
   "execution_count": 15,
   "metadata": {
    "slideshow": {
     "slide_type": "slide"
    }
   },
   "outputs": [
    {
     "name": "stdout",
     "output_type": "stream",
     "text": [
      "33\n",
      "33\n"
     ]
    },
    {
     "ename": "IndexError",
     "evalue": "list assignment index out of range",
     "output_type": "error",
     "traceback": [
      "\u001b[0;31m---------------------------------------------------------------------------\u001b[0m",
      "\u001b[0;31mIndexError\u001b[0m                                Traceback (most recent call last)",
      "\u001b[0;32m<ipython-input-15-da216dc4021a>\u001b[0m in \u001b[0;36m<module>\u001b[0;34m\u001b[0m\n\u001b[1;32m     20\u001b[0m \u001b[0;34m\u001b[0m\u001b[0m\n\u001b[1;32m     21\u001b[0m \u001b[0;31m# 없었던 인덱스에 새로운 값을 추가한다고 해도, 값이 대입되지 않는다.\u001b[0m\u001b[0;34m\u001b[0m\u001b[0;34m\u001b[0m\u001b[0;34m\u001b[0m\u001b[0m\n\u001b[0;32m---> 22\u001b[0;31m \u001b[0mx\u001b[0m\u001b[0;34m[\u001b[0m\u001b[0;36m7\u001b[0m\u001b[0;34m]\u001b[0m \u001b[0;34m=\u001b[0m \u001b[0;36m88\u001b[0m\u001b[0;34m\u001b[0m\u001b[0;34m\u001b[0m\u001b[0m\n\u001b[0m\u001b[1;32m     23\u001b[0m \u001b[0mprint\u001b[0m\u001b[0;34m(\u001b[0m\u001b[0mx\u001b[0m\u001b[0;34m[\u001b[0m\u001b[0;36m7\u001b[0m\u001b[0;34m]\u001b[0m\u001b[0;34m)\u001b[0m\u001b[0;34m\u001b[0m\u001b[0;34m\u001b[0m\u001b[0m\n",
      "\u001b[0;31mIndexError\u001b[0m: list assignment index out of range"
     ]
    }
   ],
   "source": [
    "# 페이지 66\n",
    "# 인덱스 사용하기\n",
    "\n",
    "# 인덱스를 왼쪽에서 오른쪽으로 볼 때, 0부터 len(x)-1까지 이다.\n",
    "# 인덱스를 오른쪽에서 왼쪽으로 볼 때, -1붙터 -len(x)까지 이다.\n",
    "# 이에 대한 예시는 다음과 같다.\n",
    "\n",
    "#    0 ,1, 2, 3, 4, 5, 6\n",
    "x = [11,22,33,44,55,66,77]\n",
    "#    -7,-6,-5,-4,-3,-2,-1\n",
    "\n",
    "\n",
    "# ex1\n",
    "print(x[2]) # 33\n",
    "print(x[-5]) # 33\n",
    "\n",
    "\n",
    "# 없는 인덱스를 호출하면 출력되지 않는다.\n",
    "print(x[7]) # list index out of range\n",
    "\n",
    "# 없었던 인덱스에 새로운 값을 추가한다고 해도, 값이 대입되지 않는다.\n",
    "x[7] = 88\n",
    "print(x[7])"
   ]
  },
  {
   "cell_type": "code",
   "execution_count": 21,
   "metadata": {
    "slideshow": {
     "slide_type": "slide"
    }
   },
   "outputs": [
    {
     "name": "stdout",
     "output_type": "stream",
     "text": [
      "[11, 22, 33, 44, 55, 66]\n",
      "[11, 22, 33, 44, 55, 66, 77]\n",
      "[11, 22, 33, 44, 55, 66, 77]\n",
      "[11, 33, 55, 77]\n",
      "[44, 55]\n",
      "[]\n",
      "[44, 33]\n"
     ]
    }
   ],
   "source": [
    "# 페이지 67\n",
    "# slice 식으로 원소 꺼내기\n",
    "\n",
    "#    0 ,1, 2, 3, 4, 5, 6\n",
    "s = [11,22,33,44,55,66,77]\n",
    "#    -7,-6,-5,-4,-3,-2,-1\n",
    "\n",
    "print(s[0:6]) # 인덱스 5까지 출력\n",
    "print(s[0:7]) # 인덱스 6까지 출력\n",
    "print(s[0:8]) # 인덱스 범위가 벗어나더라도, 자동으로 끝을 len(s)로 변환\n",
    "print(s[0:7:2]) # 인덱스를 건너뛰며 출력\n",
    "print(s[-4:-2]) # 인덱스 -4에서 -3까지 출력\n",
    "print(s[3:1]) # 역순으로 출력되지 않음 / 오류 발생X\n",
    "print(s[3:1:-1]) # 움직이는 방향을 -1로 주면 정상적으로 출력\n"
   ]
  },
  {
   "cell_type": "code",
   "execution_count": 27,
   "metadata": {
    "slideshow": {
     "slide_type": "slide"
    }
   },
   "outputs": [
    {
     "name": "stdout",
     "output_type": "stream",
     "text": [
      "원소는 7 개 입니다.\n",
      "최댓값은 77 , 최솟값은 11 입니다.\n"
     ]
    }
   ],
   "source": [
    "# 페이지 72 ~ 73\n",
    "# 원소 수 구하기 / 최댓값, 최솟값 구하기 / 빈 배열 판단 / 비교 및 등가 연산자\n",
    "\n",
    "# len()함수로 배열의 원소 수 구하기\n",
    "s = [11,22,33,44,55,66,77] # 7개의 원소\n",
    "print(\"원소는\",len(s),\"개 입니다.\")\n",
    "\n",
    "# min(), max()함수로 최솟값, 최댓값 구하기\n",
    "mini = min(s)\n",
    "maxi = max(s)\n",
    "print(\"최댓값은\", maxi, \", 최솟값은\", mini, \"입니다.\")"
   ]
  },
  {
   "cell_type": "code",
   "execution_count": 28,
   "metadata": {
    "scrolled": true,
    "slideshow": {
     "slide_type": "slide"
    }
   },
   "outputs": [
    {
     "name": "stdout",
     "output_type": "stream",
     "text": [
      "배열의 최댓값을 구합니다.\n",
      "원소의 수를 입력하세요. :1\n",
      "x[0]값을 입력하세요.: 2\n",
      "최댓값은 2입니다.\n"
     ]
    }
   ],
   "source": [
    "# 페이지 77\n",
    "# 최댓값 구하기 함수 구현\n",
    "\n",
    "from typing import Any, Sequence\n",
    "\n",
    "# 함수 정의\n",
    "def max_of(a: Sequence) -> Any :\n",
    "    maximum = a[0]\n",
    "    for i in range(1,len(a)) :\n",
    "        if a[i] > maximum :\n",
    "            maximum = a[i]\n",
    "            \n",
    "    return maximum\n",
    "\n",
    "\n",
    "\n",
    "### 여기서부터 무슨 말인지 모르겠다.\n",
    "\n",
    "# 함수를 불러온 뒤, 값을 입력받아 함수 실행\n",
    "if __name__ == '__main__' :\n",
    "    print(\"배열의 최댓값을 구합니다.\")\n",
    "    num = int(input('원소의 수를 입력하세요. :'))\n",
    "    x = [None] * num\n",
    "    \n",
    "    for i in range(num) :\n",
    "        x[i] = int(input(f'x[{i}]값을 입력하세요.: '))\n",
    "        \n",
    "    print(f'최댓값은 {max_of(x)}입니다.')\n",
    "    \n"
   ]
  },
  {
   "cell_type": "markdown",
   "metadata": {
    "slideshow": {
     "slide_type": "slide"
    }
   },
   "source": [
    "주석과 자료형 힌트\n",
    "\n",
    "from typing import Any, Sequence\n",
    "\n",
    "Any : 제약이 없는 임의의 자료형\n",
    "Sequence : 시퀀스형\n",
    "    \n",
    "즉, def max_of(a: Sequence) -> Any : 에서\n",
    "- a의 자료형은 Sequence\n",
    "- 반환은 Any"
   ]
  },
  {
   "cell_type": "code",
   "execution_count": null,
   "metadata": {},
   "outputs": [],
   "source": [
    "https://medium.com/@chullino/if-name-main-%EC%9D%80-%EC%99%9C-%ED%95%84%EC%9A%94%ED%95%A0%EA%B9%8C-bc48cba7f720\n",
    "    \n",
    "https://dojang.io/mod/page/view.php?id=2448\n",
    "    \n",
    "https://digital-play.tistory.com/49\n",
    "    \n"
   ]
  },
  {
   "cell_type": "code",
   "execution_count": null,
   "metadata": {},
   "outputs": [],
   "source": []
  },
  {
   "cell_type": "code",
   "execution_count": null,
   "metadata": {},
   "outputs": [],
   "source": []
  },
  {
   "cell_type": "code",
   "execution_count": null,
   "metadata": {},
   "outputs": [],
   "source": []
  },
  {
   "cell_type": "code",
   "execution_count": null,
   "metadata": {},
   "outputs": [],
   "source": []
  },
  {
   "cell_type": "code",
   "execution_count": null,
   "metadata": {},
   "outputs": [],
   "source": []
  },
  {
   "cell_type": "code",
   "execution_count": null,
   "metadata": {},
   "outputs": [],
   "source": []
  },
  {
   "cell_type": "code",
   "execution_count": null,
   "metadata": {},
   "outputs": [],
   "source": []
  },
  {
   "cell_type": "code",
   "execution_count": null,
   "metadata": {},
   "outputs": [],
   "source": []
  },
  {
   "cell_type": "code",
   "execution_count": null,
   "metadata": {},
   "outputs": [],
   "source": []
  },
  {
   "cell_type": "code",
   "execution_count": null,
   "metadata": {},
   "outputs": [],
   "source": []
  },
  {
   "cell_type": "code",
   "execution_count": null,
   "metadata": {},
   "outputs": [],
   "source": []
  },
  {
   "cell_type": "code",
   "execution_count": null,
   "metadata": {},
   "outputs": [],
   "source": []
  },
  {
   "cell_type": "code",
   "execution_count": null,
   "metadata": {},
   "outputs": [],
   "source": []
  },
  {
   "cell_type": "code",
   "execution_count": null,
   "metadata": {},
   "outputs": [],
   "source": []
  },
  {
   "cell_type": "code",
   "execution_count": null,
   "metadata": {},
   "outputs": [],
   "source": []
  }
 ],
 "metadata": {
  "celltoolbar": "Slideshow",
  "kernelspec": {
   "display_name": "aiffel",
   "language": "python",
   "name": "aiffel"
  },
  "language_info": {
   "codemirror_mode": {
    "name": "ipython",
    "version": 3
   },
   "file_extension": ".py",
   "mimetype": "text/x-python",
   "name": "python",
   "nbconvert_exporter": "python",
   "pygments_lexer": "ipython3",
   "version": "3.7.9"
  }
 },
 "nbformat": 4,
 "nbformat_minor": 4
}
