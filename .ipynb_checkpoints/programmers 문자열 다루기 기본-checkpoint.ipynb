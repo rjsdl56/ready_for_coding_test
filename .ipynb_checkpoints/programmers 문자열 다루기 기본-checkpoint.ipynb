{
 "cells": [
  {
   "cell_type": "markdown",
   "metadata": {},
   "source": [
    "문자열 다루기 기본\n",
    "문제 설명\n",
    "문자열 s의 길이가 4 혹은 6이고, 숫자로만 구성돼있는지 확인해주는 함수, solution을 완성하세요. 예를 들어 s가 \"a234\"이면 False를 리턴하고 \"1234\"라면 True를 리턴하면 됩니다.\n",
    "\n",
    "제한 사항\n",
    "s는 길이 1 이상, 길이 8 이하인 문자열입니다.\n",
    "입출력 예\n",
    "s\treturn\n",
    "\"a234\"\tfalse\n",
    "\"1234\""
   ]
  },
  {
   "cell_type": "code",
   "execution_count": 8,
   "metadata": {},
   "outputs": [
    {
     "data": {
      "text/plain": [
       "True"
      ]
     },
     "execution_count": 8,
     "metadata": {},
     "output_type": "execute_result"
    }
   ],
   "source": [
    "import re\n",
    "def solution(s):\n",
    "    \n",
    "    if len(s) < 1 | len(s) > 8 :\n",
    "        return False\n",
    "    \n",
    "    s = re.sub(\"[A-z]\", \"\", s)\n",
    "    \n",
    "    check_list = [4,6]\n",
    "    \n",
    "    if len(s) not in check_list :\n",
    "        return False\n",
    "    \n",
    "    answer = True\n",
    "    \n",
    "    return answer\n",
    "\n",
    "\n",
    "s = \"1234\"\n",
    "\n",
    "solution(s)"
   ]
  },
  {
   "cell_type": "code",
   "execution_count": 16,
   "metadata": {},
   "outputs": [
    {
     "data": {
      "text/plain": [
       "True"
      ]
     },
     "execution_count": 16,
     "metadata": {},
     "output_type": "execute_result"
    }
   ],
   "source": [
    "def solution(s):    \n",
    "    \n",
    "    check_list = [4,6]\n",
    "    \n",
    "    if len(s) not in check_list :\n",
    "        return False\n",
    "    \n",
    "    return(s.isdigit())\n",
    "    \n",
    "s = \"1234\"\n",
    "\n",
    "solution(s)"
   ]
  },
  {
   "cell_type": "code",
   "execution_count": null,
   "metadata": {},
   "outputs": [],
   "source": []
  }
 ],
 "metadata": {
  "kernelspec": {
   "display_name": "aiffel",
   "language": "python",
   "name": "aiffel"
  },
  "language_info": {
   "codemirror_mode": {
    "name": "ipython",
    "version": 3
   },
   "file_extension": ".py",
   "mimetype": "text/x-python",
   "name": "python",
   "nbconvert_exporter": "python",
   "pygments_lexer": "ipython3",
   "version": "3.7.9"
  }
 },
 "nbformat": 4,
 "nbformat_minor": 4
}
