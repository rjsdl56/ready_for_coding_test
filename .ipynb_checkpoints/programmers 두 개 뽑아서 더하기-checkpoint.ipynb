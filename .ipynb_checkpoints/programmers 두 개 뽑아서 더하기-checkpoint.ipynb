{
 "cells": [
  {
   "cell_type": "code",
   "execution_count": null,
   "metadata": {},
   "outputs": [],
   "source": [
    "def solution(numbers):\n",
    "    \n",
    "    length = len(numbers)\n",
    "    answer = []\n",
    "    \n",
    "    for x in range(length-1):\n",
    "        for y in range(x+1, length):\n",
    "            new_x = numbers[x] + numbers[y]\n",
    "            answer.append(new_x)\n",
    "    list_to_set = set(answer)\n",
    "    answer = list(list_to_set)\n",
    "    \n",
    "    return answer\n",
    "\n",
    "\n",
    "# 더러운 이중포문으로 푼다! 결과는 구렸다!! 77.8 점을 받았다!!"
   ]
  },
  {
   "cell_type": "code",
   "execution_count": null,
   "metadata": {},
   "outputs": [],
   "source": [
    "# 포인터로 풀어볼 수 있지 않을까?\n",
    "\n",
    "def solution(numbers):\n",
    "    answer = set()\n",
    "    numbers.sort()\n",
    "    for i in range(len(numbers)):\n",
    "        for j in range(i+1,len(numbers)):\n",
    "            answer.add(numbers[i] + numbers[j])\n",
    "    answer = sorted(list(answer))\n",
    "    return answer\n",
    "    \n",
    "    \n",
    "    \n",
    "    return answer\n",
    "\n",
    "# 그냥 sorted를 해주면 끝나는 문제였다."
   ]
  }
 ],
 "metadata": {
  "kernelspec": {
   "display_name": "aiffel",
   "language": "python",
   "name": "aiffel"
  },
  "language_info": {
   "codemirror_mode": {
    "name": "ipython",
    "version": 3
   },
   "file_extension": ".py",
   "mimetype": "text/x-python",
   "name": "python",
   "nbconvert_exporter": "python",
   "pygments_lexer": "ipython3",
   "version": "3.7.9"
  }
 },
 "nbformat": 4,
 "nbformat_minor": 4
}
