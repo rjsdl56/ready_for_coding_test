{
 "cells": [
  {
   "cell_type": "code",
   "execution_count": null,
   "metadata": {},
   "outputs": [],
   "source": [
    "class TreeNode(object):\n",
    "    def __init__(self, x):\n",
    "        self.val = x\n",
    "        self.left = None\n",
    "        self.right = None\n",
    "\n",
    "\n",
    "class Solution(object):\n",
    "    def sortedArrayToBST(self, nums):\n",
    "        \"\"\"\n",
    "        :type nums: List[int]\n",
    "        :rtype: TreeNode\n",
    "        \"\"\"\n",
    "        return self._sortedArrayToBST(nums, 0, len(nums))\n",
    "\n",
    "    def _sortedArrayToBST(self, nums, left, right):\n",
    "        if left == right:\n",
    "            return None\n",
    "        mid = (left + right) >> 1\n",
    "        root = TreeNode(nums[mid])\n",
    "        root.left = self._sortedArrayToBST(nums, left, mid)\n",
    "        root.right = self._sortedArrayToBST(nums, mid + 1, right)\n",
    "        return root\n",
    "\n",
    "\n",
    "if __name__ == \"__main__\":\n",
    "    None"
   ]
  }
 ],
 "metadata": {
  "kernelspec": {
   "display_name": "aiffel",
   "language": "python",
   "name": "aiffel"
  },
  "language_info": {
   "codemirror_mode": {
    "name": "ipython",
    "version": 3
   },
   "file_extension": ".py",
   "mimetype": "text/x-python",
   "name": "python",
   "nbconvert_exporter": "python",
   "pygments_lexer": "ipython3",
   "version": "3.7.9"
  }
 },
 "nbformat": 4,
 "nbformat_minor": 4
}
