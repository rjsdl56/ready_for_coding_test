{
 "cells": [
  {
   "cell_type": "markdown",
   "metadata": {},
   "source": [
    "문제 설명\n",
    "배열 array의 i번째 숫자부터 j번째 숫자까지 자르고 정렬했을 때, k번째에 있는 수를 구하려 합니다.    \n",
    "\n",
    "예를 들어 array가 [1, 5, 2, 6, 3, 7, 4], i = 2, j = 5, k = 3이라면       \n",
    "\n",
    "array의 2번째부터 5번째까지 자르면 [5, 2, 6, 3]입니다.        \n",
    "1에서 나온 배열을 정렬하면 [2, 3, 5, 6]입니다.       \n",
    "2에서 나온 배열의 3번째 숫자는 5입니다.      \n",
    "배열 array, [i, j, k]를 원소로 가진 2차원 배열 commands가 매개변수로 주어질 때, commands의 모든 원소에 대해 앞서 설명한 연산을 적용했을 때 나온 결과를 배열에 담아 return 하도록 solution 함수를 작성해주세요.       \n",
    "\n",
    "제한사항      \n",
    "array의 길이는 1 이상 100 이하입니다.       \n",
    "array의 각 원소는 1 이상 100 이하입니다.     \n",
    "commands의 길이는 1 이상 50 이하입니다.        \n",
    "commands의 각 원소는 길이가 3입니다.      \n",
    "\n",
    "입출력 예      \n",
    "array\tcommands\treturn       \n",
    "[1, 5, 2, 6, 3, 7, 4]\t[[2, 5, 3], [4, 4, 1], [1, 7, 3]]\t[5, 6, 3]        \n",
    "\n",
    "입출력 예 설명      \n",
    "[1, 5, 2, 6, 3, 7, 4]를 2번째부터 5번째까지 자른 후 정렬합니다. [2, 3, 5, 6]의 세 번째 숫자는 5입니다.     \n",
    "[1, 5, 2, 6, 3, 7, 4]를 4번째부터 4번째까지 자른 후 정렬합니다. [6]의 첫 번째 숫자는 6입니다.     \n",
    "[1, 5, 2, 6, 3, 7, 4]를 1번째부터 7번째까지 자릅니다. [1, 2, 3, 4, 5, 6, 7]의 세 번째 숫자는 3입니다.    "
   ]
  },
  {
   "cell_type": "code",
   "execution_count": 18,
   "metadata": {},
   "outputs": [
    {
     "name": "stdout",
     "output_type": "stream",
     "text": [
      "슬라이스 시작점 : 1\n",
      "슬라이스 끝점 : 5\n",
      "슬라이스 포인터 : 2\n",
      "잘렸을 때 : [1, 5, 2, 6, 3, 7, 4]\n",
      "잘린 것을 정렬 : [2, 3, 5, 6]\n",
      "포인터가 가르키는 원소 : 5\n",
      "==============\n",
      "슬라이스 시작점 : 3\n",
      "슬라이스 끝점 : 4\n",
      "슬라이스 포인터 : 0\n",
      "잘렸을 때 : [1, 5, 2, 6, 3, 7, 4]\n",
      "잘린 것을 정렬 : [6]\n",
      "포인터가 가르키는 원소 : 6\n",
      "==============\n",
      "슬라이스 시작점 : 0\n",
      "슬라이스 끝점 : 7\n",
      "슬라이스 포인터 : 2\n",
      "잘렸을 때 : [1, 5, 2, 6, 3, 7, 4]\n",
      "잘린 것을 정렬 : [1, 2, 3, 4, 5, 6, 7]\n",
      "포인터가 가르키는 원소 : 3\n",
      "==============\n"
     ]
    },
    {
     "data": {
      "text/plain": [
       "[5, 6, 3]"
      ]
     },
     "execution_count": 18,
     "metadata": {},
     "output_type": "execute_result"
    }
   ],
   "source": [
    "def solution(array, commands):\n",
    "    answer = []\n",
    "    for x in commands :\n",
    "        \n",
    "        new_array = array.copy()\n",
    "        \n",
    "        start = x[0]-1\n",
    "        print(\"슬라이스 시작점 :\",start)\n",
    "        end = x[1]\n",
    "        print(\"슬라이스 끝점 :\",end)\n",
    "        pointer = x[2]-1\n",
    "        print(\"슬라이스 포인터 :\",pointer)\n",
    "        \n",
    "        new_array = new_array[start:end]\n",
    "        print(\"잘렸을 때 :\",array)\n",
    "        \n",
    "        new_array = sorted(new_array)\n",
    "        print(\"잘린 것을 정렬 :\",new_array)\n",
    "        print(\"포인터가 가르키는 원소 :\",new_array[pointer])\n",
    "        print(\"==============\")\n",
    "        \n",
    "        \n",
    "        answer.append(new_array[pointer])\n",
    "    \n",
    "    \n",
    "    return answer\n",
    "\n",
    "\n",
    "array = [1, 5, 2, 6, 3, 7, 4]\n",
    "commands = [[2, 5, 3], [4, 4, 1], [1, 7, 3]]\n",
    "\n",
    "solution(array, commands)"
   ]
  },
  {
   "cell_type": "code",
   "execution_count": null,
   "metadata": {},
   "outputs": [],
   "source": [
    "## 다른 사람 풀이\n",
    "\n",
    "def solution(array, commands):\n",
    "    return list(map(lambda x:sorted(array[x[0]-1:x[1]])[x[2]-1], commands))"
   ]
  }
 ],
 "metadata": {
  "kernelspec": {
   "display_name": "aiffel",
   "language": "python",
   "name": "aiffel"
  },
  "language_info": {
   "codemirror_mode": {
    "name": "ipython",
    "version": 3
   },
   "file_extension": ".py",
   "mimetype": "text/x-python",
   "name": "python",
   "nbconvert_exporter": "python",
   "pygments_lexer": "ipython3",
   "version": "3.7.9"
  }
 },
 "nbformat": 4,
 "nbformat_minor": 4
}
