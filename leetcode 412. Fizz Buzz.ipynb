{
 "cells": [
  {
   "cell_type": "code",
   "execution_count": 5,
   "metadata": {},
   "outputs": [
    {
     "name": "stdout",
     "output_type": "stream",
     "text": [
      "[1, 2, 3, 4, 5, 6, 7, 8, 9, 10, 11, 12, 13, 14, 15]\n",
      "<class 'str'>\n"
     ]
    }
   ],
   "source": [
    "# n = 15 라면?\n",
    "\n",
    "# Return:\n",
    "# [\n",
    "#     \"1\",\n",
    "#     \"2\",\n",
    "#     \"Fizz\",\n",
    "#     \"4\",\n",
    "#     \"Buzz\",\n",
    "#     \"Fizz\",\n",
    "#     \"7\",\n",
    "#     \"8\",\n",
    "#     \"Fizz\",\n",
    "#     \"Buzz\",\n",
    "#     \"11\",\n",
    "#     \"Fizz\",\n",
    "#     \"13\",\n",
    "#     \"14\",\n",
    "#     \"FizzBuzz\"\n",
    "# ]\n",
    "\n"
   ]
  },
  {
   "cell_type": "code",
   "execution_count": 8,
   "metadata": {},
   "outputs": [
    {
     "data": {
      "text/plain": [
       "['1',\n",
       " '2',\n",
       " 'Fizz',\n",
       " '4',\n",
       " 'Buzz',\n",
       " 'Fizz',\n",
       " '7',\n",
       " '8',\n",
       " 'Fizz',\n",
       " 'Buzz',\n",
       " '11',\n",
       " 'Fizz',\n",
       " '13',\n",
       " '14',\n",
       " 'FizzBuzz']"
      ]
     },
     "execution_count": 8,
     "metadata": {},
     "output_type": "execute_result"
    }
   ],
   "source": [
    "def fizzBuzz(n):\n",
    "    mul_3 = \"Fizz\"\n",
    "    mul_5 = \"Buzz\"\n",
    "    mul_15 = \"FizzBuzz\"\n",
    "    \n",
    "    new_list = []\n",
    "    for x in range(1,n+1):\n",
    "        if x % 15 == 0 :\n",
    "            new_list.append(mul_15)\n",
    "            \n",
    "        elif x % 5 == 0 :\n",
    "            new_list.append(mul_5)\n",
    "            \n",
    "        elif x % 3 == 0 :\n",
    "            new_list.append(mul_3)\n",
    "            \n",
    "        else :\n",
    "            new_list.append(str(x))\n",
    "            \n",
    "    return new_list\n",
    "            \n",
    "n = 15\n",
    "\n",
    "fizzBuzz(n)"
   ]
  },
  {
   "cell_type": "code",
   "execution_count": null,
   "metadata": {},
   "outputs": [],
   "source": []
  }
 ],
 "metadata": {
  "kernelspec": {
   "display_name": "aiffel",
   "language": "python",
   "name": "aiffel"
  },
  "language_info": {
   "codemirror_mode": {
    "name": "ipython",
    "version": 3
   },
   "file_extension": ".py",
   "mimetype": "text/x-python",
   "name": "python",
   "nbconvert_exporter": "python",
   "pygments_lexer": "ipython3",
   "version": "3.7.9"
  }
 },
 "nbformat": 4,
 "nbformat_minor": 4
}
