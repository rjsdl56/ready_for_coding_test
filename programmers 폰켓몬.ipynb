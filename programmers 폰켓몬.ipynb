{
 "cells": [
  {
   "cell_type": "code",
   "execution_count": null,
   "metadata": {},
   "outputs": [],
   "source": [
    "문제 설명\n",
    "당신은 폰켓몬을 잡기 위한 오랜 여행 끝에, 홍 박사님의 연구실에 도착했습니다. \n",
    "홍 박사님은 당신에게 자신의 연구실에 있는 총 N 마리의 폰켓몬 중에서 N/2마리를 가져가도 좋다고 했습니다.\n",
    "홍 박사님 연구실의 폰켓몬은 종류에 따라 번호를 붙여 구분합니다. \n",
    "따라서 같은 종류의 폰켓몬은 같은 번호를 가지고 있습니다. \n",
    "예를 들어 연구실에 총 4마리의 폰켓몬이 있고, \n",
    "각 폰켓몬의 종류 번호가 [3번, 1번, 2번, 3번]이라면 \n",
    "이는 3번 폰켓몬 두 마리, 1번 폰켓몬 한 마리, 2번 폰켓몬 한 마리가 있음을 나타냅니다. \n",
    "이때, 4마리의 폰켓몬 중 2마리를 고르는 방법은 다음과 같이 6가지가 있습니다.\n",
    "\n",
    "첫 번째(3번), 두 번째(1번) 폰켓몬을 선택\n",
    "첫 번째(3번), 세 번째(2번) 폰켓몬을 선택\n",
    "첫 번째(3번), 네 번째(3번) 폰켓몬을 선택\n",
    "두 번째(1번), 세 번째(2번) 폰켓몬을 선택\n",
    "두 번째(1번), 네 번째(3번) 폰켓몬을 선택\n",
    "세 번째(2번), 네 번째(3번) 폰켓몬을 선택\n",
    "\n",
    "이때, 첫 번째(3번) 폰켓몬과 네 번째(3번) 폰켓몬을 선택하는 방법은 \n",
    "한 종류(3번 폰켓몬 두 마리)의 폰켓몬만 가질 수 있지만, 다른 방법들은 모두 두 종류의 폰켓몬을 가질 수 있습니다. \n",
    "따라서 위 예시에서 가질 수 있는 폰켓몬 종류 수의 최댓값은 2가 됩니다.\n",
    "당신은 최대한 다양한 종류의 폰켓몬을 가지길 원하기 때문에, \n",
    "최대한 많은 종류의 폰켓몬을 포함해서 N/2마리를 선택하려 합니다. \n",
    "N마리 폰켓몬의 종류 번호가 담긴 배열 nums가 매개변수로 주어질 때, \n",
    "N/2마리의 폰켓몬을 선택하는 방법 중, 가장 많은 종류의 폰켓몬을 선택하는 방법을 찾아, \n",
    "그때의 폰켓몬 종류 번호의 개수를 return 하도록 solution 함수를 완성해주세요.\n",
    "\n",
    "제한사항\n",
    "nums는 폰켓몬의 종류 번호가 담긴 1차원 배열입니다.\n",
    "nums의 길이(N)는 1 이상 10,000 이하의 자연수이며, 항상 짝수로 주어집니다.\n",
    "폰켓몬의 종류 번호는 1 이상 200,000 이하의 자연수로 나타냅니다.\n",
    "가장 많은 종류의 폰켓몬을 선택하는 방법이 여러 가지인 경우에도, \n",
    "선택할 수 있는 폰켓몬 종류 개수의 최댓값 하나만 return 하면 됩니다.\n",
    "\n",
    "\n",
    "입출력 예\n",
    "nums\tresult\n",
    "[3,1,2,3]\t2\n",
    "[3,3,3,2,2,4]\t3\n",
    "[3,3,3,2,2,2]\t2\n",
    "\n",
    "\n",
    "입출력 예 설명\n",
    "\n",
    "입출력 예 #1\n",
    "문제의 예시와 같습니다.\n",
    "\n",
    "입출력 예 #2\n",
    "6마리의 폰켓몬이 있으므로, 3마리의 폰켓몬을 골라야 합니다.\n",
    "가장 많은 종류의 폰켓몬을 고르기 위해서는 3번 폰켓몬 한 마리, \n",
    "2번 폰켓몬 한 마리, 4번 폰켓몬 한 마리를 고르면 되며, 따라서 3을 return 합니다.\n",
    "\n",
    "입출력 예 #3\n",
    "6마리의 폰켓몬이 있으므로, 3마리의 폰켓몬을 골라야 합니다.\n",
    "가장 많은 종류의 폰켓몬을 고르기 위해서는 3번 폰켓몬 한 마리와 2번 폰켓몬 두 마리를 고르거나, \n",
    "혹은 3번 폰켓몬 두 마리와 3번 폰켓몬 한 마리를 고르면 됩니다.\n",
    "따라서 최대 고를 수 있는 폰켓몬 종류의 수는 2입니다."
   ]
  },
  {
   "cell_type": "code",
   "execution_count": null,
   "metadata": {},
   "outputs": [],
   "source": [
    "마지막에 len() 처리로 구할 것\n",
    "for문으로 하기 전에 기본 셋으로 생각해보자.\n",
    "어차피 고르려는 숫자보다 가짓수가 적으면 가짓수가 최대\n",
    "고르려는 숫자보다 가짓수가 크면 가짓수가 출력된다."
   ]
  },
  {
   "cell_type": "code",
   "execution_count": 19,
   "metadata": {},
   "outputs": [],
   "source": [
    "def solution(nums):\n",
    "    answer = 0\n",
    "    check = set(nums) \n",
    "    select = int(len(nums) / 2)\n",
    "    \n",
    "    # 고르려는 숫자가 가짓수보다 클 때 ==> 가짓수 출력\n",
    "    if select > len(check) :\n",
    "        answer = len(check)\n",
    "    \n",
    "    # 고르려는 숫자가 가짓수보다 작을 때 ==> 고르려는 숫자 출력\n",
    "    else :\n",
    "        answer = select\n",
    "    \n",
    "    return answer"
   ]
  },
  {
   "cell_type": "code",
   "execution_count": 20,
   "metadata": {},
   "outputs": [
    {
     "name": "stdout",
     "output_type": "stream",
     "text": [
      "{1, 2, 3}\n"
     ]
    },
    {
     "data": {
      "text/plain": [
       "2"
      ]
     },
     "execution_count": 20,
     "metadata": {},
     "output_type": "execute_result"
    }
   ],
   "source": [
    "# 확인 코드\n",
    "nums = [3,1,2,3]\n",
    "solution(nums) # 2"
   ]
  },
  {
   "cell_type": "code",
   "execution_count": 21,
   "metadata": {},
   "outputs": [
    {
     "name": "stdout",
     "output_type": "stream",
     "text": [
      "{2, 3, 4}\n"
     ]
    },
    {
     "data": {
      "text/plain": [
       "3"
      ]
     },
     "execution_count": 21,
     "metadata": {},
     "output_type": "execute_result"
    }
   ],
   "source": [
    "# 확인 코드\n",
    "nums = [3,3,3,2,2,4]\n",
    "solution(nums) # 3"
   ]
  },
  {
   "cell_type": "code",
   "execution_count": 22,
   "metadata": {},
   "outputs": [
    {
     "name": "stdout",
     "output_type": "stream",
     "text": [
      "{2, 3}\n"
     ]
    },
    {
     "data": {
      "text/plain": [
       "2"
      ]
     },
     "execution_count": 22,
     "metadata": {},
     "output_type": "execute_result"
    }
   ],
   "source": [
    "# 확인 코드\n",
    "nums = [3,3,3,2,2,2]\n",
    "solution(nums) # 2"
   ]
  },
  {
   "cell_type": "code",
   "execution_count": null,
   "metadata": {},
   "outputs": [],
   "source": [
    "# 다른 사람 풀이\n",
    "\n",
    "def solution(ls):\n",
    "    return min(len(ls)/2, len(set(ls)))"
   ]
  },
  {
   "cell_type": "code",
   "execution_count": null,
   "metadata": {},
   "outputs": [],
   "source": []
  },
  {
   "cell_type": "code",
   "execution_count": null,
   "metadata": {},
   "outputs": [],
   "source": []
  }
 ],
 "metadata": {
  "kernelspec": {
   "display_name": "aiffel",
   "language": "python",
   "name": "aiffel"
  },
  "language_info": {
   "codemirror_mode": {
    "name": "ipython",
    "version": 3
   },
   "file_extension": ".py",
   "mimetype": "text/x-python",
   "name": "python",
   "nbconvert_exporter": "python",
   "pygments_lexer": "ipython3",
   "version": "3.7.9"
  }
 },
 "nbformat": 4,
 "nbformat_minor": 4
}
